{
 "cells": [
  {
   "cell_type": "code",
   "execution_count": null,
   "metadata": {},
   "outputs": [],
   "source": [
    "%load_ext autoreload\n",
    "%autoreload 2"
   ]
  },
  {
   "cell_type": "code",
   "execution_count": null,
   "metadata": {},
   "outputs": [],
   "source": [
    "# We need to join the upper directory in order to access the local modules\n",
    "import os\n",
    "import sys\n",
    "\n",
    "module_path = os.path.abspath(os.path.join(\"..\"))\n",
    "if module_path not in sys.path:\n",
    "    sys.path.append(module_path)"
   ]
  },
  {
   "cell_type": "code",
   "execution_count": null,
   "metadata": {},
   "outputs": [],
   "source": [
    "import itertools\n",
    "import json\n",
    "import logging\n",
    "\n",
    "logging.basicConfig(level=logging.ERROR)\n",
    "logger = logging.getLogger(__name__)"
   ]
  },
  {
   "cell_type": "code",
   "execution_count": null,
   "metadata": {},
   "outputs": [],
   "source": [
    "import matplotlib.pyplot as plt\n",
    "import numpy as np\n",
    "import pandas as pd\n",
    "import plotly.express as px\n",
    "import plotly.io as pio\n",
    "import seaborn as sns\n",
    "import scipy\n",
    "\n",
    "from scipy.ndimage import uniform_filter1d\n",
    "from scipy.io import loadmat, savemat"
   ]
  },
  {
   "cell_type": "code",
   "execution_count": null,
   "metadata": {},
   "outputs": [],
   "source": [
    "plt.rcParams[\"font.family\"] = \"Linux Libertine O\"\n",
    "plt.rcParams[\"font.size\"] = 10"
   ]
  },
  {
   "cell_type": "code",
   "execution_count": null,
   "metadata": {},
   "outputs": [],
   "source": [
    "from pytdoa.mlat import exact, lls, nlls\n",
    "from pytdoa import brutefoptim, nonlinoptim, linoptim\n",
    "from pytdoa.geometry import generate_heatmap, generate_hyperbola\n",
    "from pytdoa.geodesy import SPEED_OF_LIGHT  # noqa: E402"
   ]
  },
  {
   "cell_type": "code",
   "execution_count": null,
   "metadata": {},
   "outputs": [],
   "source": [
    "# Reading the mat files\n",
    "with open(\"comnets_data/gnbPositions.json\") as gnb_file:\n",
    "    data = json.load(gnb_file)\n",
    "\n",
    "gNBs = np.array([data[\"gnb0\"], data[\"gnb1\"], data[\"gnb2\"], data[\"gnb3\"]])\n",
    "\n",
    "with open(\"comnets_data/uePositions.json\") as ue_file:\n",
    "    data = json.load(ue_file)\n",
    "\n",
    "UEs = np.array(\n",
    "    [data[\"ue0\"], data[\"ue1\"], data[\"ue2\"], data[\"ue3\"], data[\"ue4\"], data[\"ue5\"]]\n",
    ")\n",
    "UEs"
   ]
  },
  {
   "attachments": {},
   "cell_type": "markdown",
   "metadata": {},
   "source": [
    "## Playing a bit with each of the positions (there are 6 in total)"
   ]
  },
  {
   "cell_type": "code",
   "execution_count": null,
   "metadata": {},
   "outputs": [],
   "source": [
    "POSITION = 0\n",
    "FREQUENCY_MHZ = 100  # MHz\n",
    "FREQUENCY = FREQUENCY_MHZ * 1e6"
   ]
  },
  {
   "cell_type": "code",
   "execution_count": null,
   "metadata": {},
   "outputs": [],
   "source": [
    "toa_measurements = pd.read_csv(\n",
    "    f\"comnets_data/experiments/exp{POSITION}/{FREQUENCY_MHZ}mhz.csv\"\n",
    ")\n",
    "toa_measurements.drop(\n",
    "    [\n",
    "        \"Unnamed: 0\",\n",
    "    ],\n",
    "    axis=1,\n",
    "    inplace=True,\n",
    ")\n",
    "toa_measurements.head(7)"
   ]
  },
  {
   "cell_type": "code",
   "execution_count": null,
   "metadata": {},
   "outputs": [],
   "source": [
    "if FREQUENCY_MHZ == 100:\n",
    "    if POSITION == 4:\n",
    "        toa_measurements = toa_measurements.drop([\"gNB0\", \"P0\"], axis=1)\n",
    "\n",
    "    toa_filt = toa_measurements.loc[~((toa_measurements == float(\"-inf\")).any(axis=1))]\n",
    "    toa_filt.reset_index(drop=True, inplace=True)\n",
    "\n",
    "    if POSITION == 1:\n",
    "        toa_filt = toa_filt.loc[154:]  # Only for Position 1\n",
    "\n",
    "elif FREQUENCY_MHZ == 40:\n",
    "    if POSITION != 2:\n",
    "        toa_measurements = toa_measurements.drop([\"gNB0\", \"P0\"], axis=1)\n",
    "    else:\n",
    "        toa_measurements = toa_measurements.drop([\"gNB1\", \"P1\"], axis=1)\n",
    "\n",
    "    toa_filt = toa_measurements.loc[~((toa_measurements == float(\"-inf\")).any(axis=1))]\n",
    "    toa_filt.reset_index(drop=True, inplace=True)\n",
    "\n",
    "else:\n",
    "    raise RuntimeError(\"Unrecorded center frequency!\")\n",
    "\n",
    "toa_filt"
   ]
  },
  {
   "cell_type": "markdown",
   "metadata": {},
   "source": [
    "## Offset exploration"
   ]
  },
  {
   "cell_type": "code",
   "execution_count": null,
   "metadata": {},
   "outputs": [],
   "source": [
    "# Let's plot a bit the drift\n",
    "fig, ax = plt.subplots(figsize=(7, 5))\n",
    "\n",
    "ax.scatter(x=np.arange(len(toa_filt)), y=toa_filt[\"gNB0\"])\n",
    "ax.scatter(x=np.arange(len(toa_filt)), y=toa_filt[\"gNB2\"])\n",
    "\n",
    "ax.legend([\"gNB0\", \"gNB1\"])\n",
    "\n",
    "ax.set_xlim([0, len(toa_filt)])\n",
    "\n",
    "ax.set_title(f\"Position {POSITION} - Bandwidth: {FREQUENCY_MHZ} MHz\")\n",
    "ax.set_xlabel(\"Experiment Number\")\n",
    "ax.set_ylabel(\"Measured ToA (samples)\")"
   ]
  },
  {
   "cell_type": "code",
   "execution_count": null,
   "metadata": {},
   "outputs": [],
   "source": [
    "from util import make_grid"
   ]
  },
  {
   "cell_type": "code",
   "execution_count": null,
   "metadata": {},
   "outputs": [],
   "source": [
    "plt.rcParams[\"font.family\"] = \"Linux Libertine O\"\n",
    "plt.rcParams[\"font.size\"] = 10\n",
    "\n",
    "(fig, ax) = make_grid(100, plot_inf=True)\n",
    "plt.show()"
   ]
  },
  {
   "cell_type": "markdown",
   "metadata": {},
   "source": [
    "## Getting some experiments on"
   ]
  },
  {
   "cell_type": "code",
   "execution_count": null,
   "metadata": {},
   "outputs": [],
   "source": [
    "# Calculating the theoretical values\n",
    "theoretical_toa = np.linalg.norm(UEs[POSITION] - gNBs, axis=1)\n",
    "theoretical_tdoa_mat = theoretical_toa.reshape((-1, 1)) - theoretical_toa\n",
    "theoretical_tdoa = theoretical_tdoa_mat[np.triu_indices(4, k=1)]\n",
    "theoretical_tdoa"
   ]
  },
  {
   "cell_type": "code",
   "execution_count": null,
   "metadata": {},
   "outputs": [],
   "source": [
    "EXPERIMENT = 1\n",
    "FILTER_WINDOW = 10\n",
    "\n",
    "#\n",
    "gNB_toas = toa_filt[[\"gNB0\", \"gNB1\", \"gNB2\", \"gNB3\"]].to_numpy()\n",
    "triu_indices = np.triu_indices(4, k=1)\n",
    "gNB_tdoas = (\n",
    "    gNB_toas.reshape((gNB_toas.shape[0], gNB_toas.shape[1], 1))\n",
    "    - gNB_toas.reshape((gNB_toas.shape[0], 1, gNB_toas.shape[1]))\n",
    ")[:, triu_indices[0], triu_indices[1]]\n",
    "selected_tdoa = gNB_tdoas[EXPERIMENT, :]\n",
    "selected_tdoa = selected_tdoa / FREQUENCY * SPEED_OF_LIGHT\n",
    "selected_tdoa"
   ]
  },
  {
   "cell_type": "code",
   "execution_count": null,
   "metadata": {},
   "outputs": [],
   "source": [
    "# Let's plot a bit the drift\n",
    "fig, ax = plt.subplots(figsize=(7, 5))\n",
    "\n",
    "ax.scatter(x=np.arange(len(gNB_tdoas)), y=gNB_tdoas[:, 1])\n",
    "\n",
    "ax.legend([\"gNB0-gNB1\"])\n",
    "\n",
    "ax.set_ylim([-5, 5])\n",
    "ax.set_xlim([0, len(toa_filt)])\n",
    "\n",
    "ax.set_title(f\"Position {POSITION} - Bandwidth: {FREQUENCY_MHZ} MHz\")\n",
    "ax.set_xlabel(\"Experiment Number\")\n",
    "ax.set_ylabel(\"Measured ToA (samples)\")"
   ]
  },
  {
   "cell_type": "code",
   "execution_count": null,
   "metadata": {},
   "outputs": [],
   "source": [
    "linpos = linoptim(gNBs, selected_tdoa[0:4], input_type=\"xyz\").squeeze()\n",
    "print(f\"Calculated Position - x: {linpos[0]:.4f} y: {linpos[1]:.4f}\")\n",
    "print(f\"Real Position - x: {UEs[POSITION,0]:.4f} y: {UEs[POSITION,1]:.4f}\")"
   ]
  },
  {
   "cell_type": "code",
   "execution_count": null,
   "metadata": {},
   "outputs": [],
   "source": [
    "combination_range = itertools.combinations(np.arange(len(gNBs)), 2)\n",
    "combinations = np.fromiter(combination_range, dtype=np.dtype((int, 2)))\n",
    "\n",
    "position_nlls = nonlinoptim(\n",
    "    gNBs,\n",
    "    selected_tdoa,\n",
    "    combinations,\n",
    "    num_dim=2,\n",
    "    p0=np.mean(gNBs, axis=0),\n",
    "    input_type=\"xyz\",\n",
    "    method=\"SLSQP\",\n",
    ")\n",
    "position_nlls"
   ]
  },
  {
   "cell_type": "markdown",
   "metadata": {},
   "source": [
    "## Looping over all values"
   ]
  },
  {
   "cell_type": "code",
   "execution_count": null,
   "metadata": {},
   "outputs": [],
   "source": [
    "position_lls = 50 * np.ones((len(toa_filt), 2))\n",
    "position_nls = 50 * np.ones((len(toa_filt), 2))\n",
    "\n",
    "filter_w = 1\n",
    "if FREQUENCY_MHZ == 100:\n",
    "    if POSITION == 4:\n",
    "        n = 3\n",
    "        gNB_toas = uniform_filter1d(\n",
    "            toa_filt[[\"gNB1\", \"gNB2\", \"gNB3\"]].to_numpy(), filter_w, mode=\"mirror\"\n",
    "        )\n",
    "        gNB_loop = gNBs[1:, :]\n",
    "    else:\n",
    "        n = 4\n",
    "        gNB_toas = uniform_filter1d(\n",
    "            toa_filt[[\"gNB0\", \"gNB1\", \"gNB2\", \"gNB3\"]].to_numpy(),\n",
    "            filter_w,\n",
    "            mode=\"mirror\",\n",
    "        )\n",
    "        gNB_loop = gNBs\n",
    "if FREQUENCY_MHZ == 40:\n",
    "    if POSITION == 2:\n",
    "        gNB_toas = uniform_filter1d(\n",
    "            toa_filt[[\"gNB0\", \"gNB2\", \"gNB3\"]].to_numpy(), filter_w, mode=\"mirror\"\n",
    "        )\n",
    "        gNB_loop = gNBs\n",
    "    else:\n",
    "        gNB_toas = uniform_filter1d(\n",
    "            toa_filt[[\"gNB1\", \"gNB2\", \"gNB3\"]].to_numpy(), filter_w, mode=\"mirror\"\n",
    "        )\n",
    "        gNB_loop = gNBs\n",
    "\n",
    "combination_range = itertools.combinations(np.arange(len(gNB_loop)), 2)\n",
    "combinations = np.fromiter(combination_range, dtype=np.dtype((int, 2)))\n",
    "for i in range(len(toa_filt)):\n",
    "    gNB_toas_selected = gNB_toas[i, :]\n",
    "    gNB_tdoas_selected_mat = gNB_toas_selected.reshape((-1, 1)) - gNB_toas_selected\n",
    "    selected_tdoa = gNB_tdoas_selected_mat[np.triu_indices(n, k=1)]\n",
    "    selected_tdoa = selected_tdoa / FREQUENCY * SPEED_OF_LIGHT\n",
    "\n",
    "    position_lls[i, :] = linoptim(\n",
    "        gNB_loop, selected_tdoa[0:n], input_type=\"xyz\"\n",
    "    ).squeeze()\n",
    "    position_nls[i, :] = nonlinoptim(\n",
    "        gNB_loop,\n",
    "        selected_tdoa,\n",
    "        combinations,\n",
    "        num_dim=2,\n",
    "        p0=np.mean(gNB_loop, axis=0),\n",
    "        input_type=\"xyz\",\n",
    "        method=\"SLSQP\",\n",
    "    ).squeeze()"
   ]
  },
  {
   "cell_type": "code",
   "execution_count": null,
   "metadata": {},
   "outputs": [],
   "source": [
    "error_lls = np.linalg.norm((UEs[POSITION, :] - position_lls), axis=1)\n",
    "error_nls = np.linalg.norm((UEs[POSITION, :] - position_nls), axis=1)"
   ]
  },
  {
   "cell_type": "code",
   "execution_count": null,
   "metadata": {},
   "outputs": [],
   "source": [
    "plt.rcParams[\"font.family\"] = \"Linux Libertine O\"\n",
    "plt.rcParams[\"font.size\"] = 20"
   ]
  },
  {
   "cell_type": "code",
   "execution_count": null,
   "metadata": {},
   "outputs": [],
   "source": [
    "f, ax = plt.subplots(figsize=(8, 4))\n",
    "\n",
    "ax.ecdf(error_lls)\n",
    "ax.ecdf(error_nls)\n",
    "\n",
    "ax.set_xlim([0, 5])\n",
    "ax.grid()\n",
    "\n",
    "ax.set_title(f\"Position {POSITION} - Bandwidth: {FREQUENCY_MHZ} MHz\")\n",
    "ax.set_xlabel(\"Error (m)\")\n",
    "ax.legend([\"Linear\", \"Non-Linear/Brute-Force\"])"
   ]
  }
 ],
 "metadata": {
  "kernelspec": {
   "display_name": "pytdoa-ArcY7ZMD-py3.8",
   "language": "python",
   "name": "python3"
  },
  "language_info": {
   "codemirror_mode": {
    "name": "ipython",
    "version": 3
   },
   "file_extension": ".py",
   "mimetype": "text/x-python",
   "name": "python",
   "nbconvert_exporter": "python",
   "pygments_lexer": "ipython3",
   "version": "3.12.1"
  },
  "orig_nbformat": 4,
  "vscode": {
   "interpreter": {
    "hash": "d240e4e55ce5b7ae23ab2049e9594d945179e0aff88ab198ba431dd5e021ca02"
   }
  }
 },
 "nbformat": 4,
 "nbformat_minor": 2
}
