{
 "cells": [
  {
   "cell_type": "code",
   "execution_count": 1,
   "metadata": {
    "ExecuteTime": {
     "end_time": "2023-11-12T09:43:49.908749Z",
     "start_time": "2023-11-12T09:43:49.900501Z"
    }
   },
   "outputs": [],
   "source": [
    "%load_ext autoreload\n",
    "%autoreload 2"
   ]
  },
  {
   "cell_type": "code",
   "execution_count": 2,
   "metadata": {
    "ExecuteTime": {
     "end_time": "2023-11-12T09:43:51.861686Z",
     "start_time": "2023-11-12T09:43:51.138702Z"
    }
   },
   "outputs": [],
   "source": [
    "# We need to join the upper directory in order to access the local modules\n",
    "import datetime\n",
    "import os\n",
    "import pickle\n",
    "import sys\n",
    "\n",
    "module_path = os.path.abspath(os.path.join(\"..\"))\n",
    "if module_path not in sys.path:\n",
    "    sys.path.append(module_path)\n",
    "\n",
    "import itertools\n",
    "import json\n",
    "\n",
    "import matplotlib.pyplot as plt\n",
    "import numpy as np\n",
    "import pandas as pd\n",
    "import scipy"
   ]
  },
  {
   "cell_type": "code",
   "execution_count": 12,
   "metadata": {
    "ExecuteTime": {
     "end_time": "2023-11-12T09:43:52.117006Z",
     "start_time": "2023-11-12T09:43:51.861608Z"
    }
   },
   "outputs": [],
   "source": [
    "from pytdoa.pytdoa import nonlinoptim, linoptim, brutefoptim\n",
    "from pytdoa.geodesy.geodesy import SPEED_OF_LIGHT\n",
    "\n",
    "from util import moving_average"
   ]
  },
  {
   "cell_type": "code",
   "execution_count": 4,
   "metadata": {
    "ExecuteTime": {
     "end_time": "2023-11-12T09:43:53.272853Z",
     "start_time": "2023-11-12T09:43:53.263396Z"
    }
   },
   "outputs": [],
   "source": [
    "plt.rcParams[\"font.family\"] = \"Linux Libertine O\"\n",
    "plt.rcParams[\"font.size\"] = 20"
   ]
  },
  {
   "cell_type": "code",
   "execution_count": 133,
   "metadata": {
    "ExecuteTime": {
     "end_time": "2023-11-12T09:43:54.562527Z",
     "start_time": "2023-11-12T09:43:54.544811Z"
    }
   },
   "outputs": [],
   "source": [
    "# Reading the mat files\n",
    "with open(\"comnets_data/gnbPositions.json\") as gnb_file:\n",
    "    data = json.load(gnb_file)\n",
    "\n",
    "gNBs = np.array([data[\"gnb0\"], data[\"gnb1\"], data[\"gnb2\"], data[\"gnb3\"]])\n",
    "center = gNBs[3,:]\n",
    "Rba = np.array([[np.cos(np.pi/2),-np.sin(np.pi/2),center[0]],[np.sin(np.pi/2),np.cos(np.pi/2),center[1]],[0.0,0.0,1.0]])\n",
    "Rab = np.linalg.inv(Rba)\n",
    "\n",
    "gNBs = np.array([data[\"gnb0\"], data[\"gnb1\"], data[\"gnb2\"], data[\"gnb3\"]])\n",
    "ggs = np.hstack((gNBs,np.ones((4,1))))\n",
    "gNBs = np.matmul(Rab,ggs.T).T\n",
    "gNBs = gNBs[:,0:2]\n",
    "\n",
    "with open(\"comnets_data/uePositions.json\") as ue_file:\n",
    "    data = json.load(ue_file)\n",
    "\n",
    "UEs = np.array(\n",
    "    [data[\"ue0\"], data[\"ue1\"], data[\"ue2\"], data[\"ue3\"], data[\"ue4\"], data[\"ue5\"]]\n",
    ")\n",
    "\n",
    "uus = np.hstack((UEs,np.ones((6,1))))\n",
    "\n",
    "UEs = np.matmul(Rab,uus.T).T\n",
    "UEs = UEs[:,0:2]"
   ]
  },
  {
   "attachments": {},
   "cell_type": "markdown",
   "metadata": {},
   "source": [
    "## Playing a bit with the observed TDOA values"
   ]
  },
  {
   "cell_type": "code",
   "execution_count": null,
   "metadata": {},
   "outputs": [],
   "source": [
    "# Main params\n",
    "POSITION = 5\n",
    "FREQUENCY_MHZ = 100  # MHz\n",
    "FREQUENCY = FREQUENCY_MHZ * 1e6\n",
    "\n",
    "# Reading and filtering\n",
    "toa_measurements = pd.read_csv(\n",
    "    f\"comnets_data/experiments/exp{POSITION}/{FREQUENCY_MHZ}mhz.csv\"\n",
    ")\n",
    "toa_measurements.drop(\n",
    "    [\n",
    "        \"Unnamed: 0\",\n",
    "    ],\n",
    "    axis=1,\n",
    "    inplace=True,\n",
    ")\n",
    "\n",
    "if FREQUENCY_MHZ == 100:\n",
    "    if POSITION == 4:\n",
    "        toa_measurements = toa_measurements.drop([\"gNB0\", \"P0\"], axis=1)\n",
    "\n",
    "    toa_filt = toa_measurements.loc[~((toa_measurements == float(\"-inf\")).any(axis=1))]\n",
    "    toa_filt.reset_index(drop=True, inplace=True)\n",
    "\n",
    "    if POSITION == 1:\n",
    "        toa_filt = toa_filt.loc[154:]  # Only for Position 1\n",
    "\n",
    "elif FREQUENCY_MHZ == 40:\n",
    "    if POSITION != 2:\n",
    "        toa_measurements = toa_measurements.drop([\"gNB0\", \"P0\"], axis=1)\n",
    "    else:\n",
    "        toa_measurements = toa_measurements.drop([\"gNB1\", \"P1\"], axis=1)\n",
    "\n",
    "    toa_filt = toa_measurements.loc[~((toa_measurements == float(\"-inf\")).any(axis=1))]\n",
    "    toa_filt.reset_index(drop=True, inplace=True)\n",
    "\n",
    "else:\n",
    "    raise RuntimeError(\"Not a supported frequency\")\n",
    "toa_filt.head(10)"
   ]
  },
  {
   "cell_type": "code",
   "execution_count": null,
   "metadata": {},
   "outputs": [],
   "source": [
    "# Calculating the theoretical values\n",
    "th_toa = np.linalg.norm(UEs[POSITION] - gNBs, axis=1)\n",
    "th_tdoa = (th_toa.reshape((-1, 1)) - th_toa)[np.triu_indices(4, k=1)]\n",
    "th_tdoa"
   ]
  },
  {
   "cell_type": "code",
   "execution_count": null,
   "metadata": {},
   "outputs": [],
   "source": [
    "# Moving Average parameters\n",
    "ma_window = 20\n",
    "\n",
    "# Vectorized version to obtain TDOA values\n",
    "toas = toa_filt[[\"gNB0\", \"gNB1\", \"gNB2\", \"gNB3\"]].to_numpy()\n",
    "triu_indices = np.triu_indices(4, k=1)\n",
    "tdoas = (\n",
    "    toas.reshape((toas.shape[0], toas.shape[1], 1))\n",
    "    - toas.reshape((toas.shape[0], 1, toas.shape[1]))\n",
    ")[:, triu_indices[0], triu_indices[1]]\n",
    "\n",
    "# A bit of masking to remove obvious outliers\n",
    "maskl, masku = (tdoas > -20), tdoas < 20\n",
    "mask = (maskl & masku).all(axis=1)\n",
    "tdoas = moving_average(tdoas[mask, :], ma_window)\n",
    "\n",
    "tdoas = tdoas / FREQUENCY * SPEED_OF_LIGHT\n",
    "tdoa_mean = np.mean(tdoas, axis=0)"
   ]
  },
  {
   "cell_type": "code",
   "execution_count": null,
   "metadata": {},
   "outputs": [],
   "source": [
    "difference = 1\n",
    "fig, ax = plt.subplots(figsize=(7, 5))\n",
    "\n",
    "ax.plot(tdoas[:, difference])\n",
    "ax.plot(tdoa_mean[difference] * np.ones(tdoas.shape[0]))\n",
    "ax.plot(th_tdoa[difference] * np.ones(tdoas.shape[0]), linestyle=\"dashed\", color=\"red\")\n",
    "\n",
    "ax.set_title(f\"Position: {POSITION} - Bandwidth: {FREQUENCY_MHZ}MHz\")\n",
    "ax.set_xlabel(\"Sample\")\n",
    "ax.set_ylabel(\"TDOA (m)\")\n",
    "ax.legend(\n",
    "    [\n",
    "        f\"gNB{triu_indices[0][difference]} - gNB{triu_indices[1][difference]}\",\n",
    "        \"Mean\",\n",
    "        \"Theoretical\",\n",
    "    ]\n",
    ")"
   ]
  },
  {
   "cell_type": "code",
   "execution_count": null,
   "metadata": {},
   "outputs": [],
   "source": [
    "experiment = 100\n",
    "combination_range = itertools.combinations(np.arange(len(gNBs)), 2)\n",
    "combinations = np.fromiter(combination_range, dtype=np.dtype((int,2)))"
   ]
  },
  {
   "cell_type": "code",
   "execution_count": null,
   "metadata": {},
   "outputs": [],
   "source": [
    "linpos = linoptim(gNBs,tdoas[experiment,0:4],input_type='xyz').squeeze()\n",
    "print(f\"Calculated Position - x: {linpos[0]:.4f} y: {linpos[1]:.4f}\")\n",
    "print(f\"Real Position - x: {UEs[POSITION,0]:.4f} y: {UEs[POSITION,1]:.4f}\")"
   ]
  },
  {
   "cell_type": "code",
   "execution_count": null,
   "metadata": {},
   "outputs": [],
   "source": [
    "result = nonlinoptim(gNBs, tdoas[experiment,:], combinations, num_dim=2, p0=linpos, input_type=\"xyz\", use_offset=True, l=.05)\n",
    "print(f\"Calculated Position - x: {result[0]:.4f} y: {result[1]:.4f}\")\n",
    "print(f\"Offsets: gNB0 = {result[2]}, gNB1 = {result[3]}, gNB2 = {result[4]}, gNB3 = {result[5]}\")"
   ]
  },
  {
   "cell_type": "code",
   "execution_count": null,
   "metadata": {},
   "outputs": [],
   "source": [
    "# Let's do some specific processing\n",
    "o = np.zeros(4)\n",
    "for i in range(tdoas.shape[0]):\n",
    "    result = nonlinoptim(gNBs, tdoas[experiment,:], combinations, num_dim=2, p0=linpos, input_type=\"xyz\", use_offset=True, l=.5)\n",
    "    o += result[2:]\n",
    "\n",
    "o /= tdoas.shape[0]"
   ]
  },
  {
   "cell_type": "code",
   "execution_count": null,
   "metadata": {},
   "outputs": [],
   "source": [
    "do = (o.reshape((-1, 1)) - o.reshape(1, -1))[triu_indices[0], triu_indices[1]]\n",
    "tdoas_corrected = tdoas - do\n",
    "tdoas_corrected_mean = np.mean(tdoas_corrected, axis=0)"
   ]
  },
  {
   "cell_type": "code",
   "execution_count": null,
   "metadata": {},
   "outputs": [],
   "source": [
    "difference = 5\n",
    "fig, ax = plt.subplots(figsize=(7, 5))\n",
    "\n",
    "ax.plot(tdoas[:, difference])\n",
    "ax.plot(tdoas_corrected[:, difference])\n",
    "ax.plot(tdoa_mean[difference] * np.ones(tdoas.shape[0]))\n",
    "ax.plot(tdoas_corrected_mean[difference] * np.ones(tdoas_corrected.shape[0]))\n",
    "ax.plot(th_tdoa[difference] * np.ones(tdoas_corrected.shape[0]), linestyle=\"dashed\", color=\"red\")\n",
    "\n",
    "ax.set_title(f\"Position: {POSITION} - Bandwidth: {FREQUENCY_MHZ}MHz\")\n",
    "ax.set_xlabel(\"Sample\")\n",
    "ax.set_ylabel(\"TDOA (m)\")\n",
    "ax.legend(\n",
    "    [\n",
    "        f\"gNB{triu_indices[0][difference]} - gNB{triu_indices[1][difference]}\",\n",
    "        f\"gNB{triu_indices[0][difference]} - gNB{triu_indices[1][difference]} - Corrected\",\n",
    "        \"Mean\",\n",
    "        \"Mean - Corrected\",\n",
    "        \"Theoretical\",\n",
    "    ],\n",
    "    loc=\"center left\", \n",
    "    bbox_to_anchor=(1, 0.5),\n",
    ")\n",
    "\n",
    "plt.show()"
   ]
  },
  {
   "cell_type": "markdown",
   "metadata": {},
   "source": [
    "## Let's get TDOA offsets for all positions"
   ]
  },
  {
   "cell_type": "code",
   "execution_count": null,
   "metadata": {},
   "outputs": [],
   "source": [
    "# Let's analyze one frequency at a time\n",
    "frequency_mhz = 100  # MHz\n",
    "frequency = frequency_mhz * 1e6\n",
    "ma_window = 10\n",
    "\n",
    "result_dict = {}\n",
    "\n",
    "result_dict[\"ma\"] = ma_window\n",
    "result_dict[\"frequency\"] = frequency\n",
    "result_dict[\"frequency_mhz\"] = frequency_mhz\n",
    "for position in range(0, 6):\n",
    "    # Reading and filtering\n",
    "    df = pd.read_csv(f\"comnets_data/experiments/exp{position}/{frequency_mhz}mhz.csv\")\n",
    "    df.drop(\n",
    "        [\n",
    "            \"Unnamed: 0\",\n",
    "        ],\n",
    "        axis=1,\n",
    "        inplace=True,\n",
    "    )\n",
    "\n",
    "    # Setting the stage\n",
    "    n = 4  # We will use 4 gNBs except for position 4\n",
    "\n",
    "    # This is internal knowledge\n",
    "    if frequency_mhz == 100:\n",
    "        if position == 4:\n",
    "            df.drop([\"gNB0\", \"P0\"], axis=1, inplace=True)\n",
    "            n = 3\n",
    "\n",
    "        df_filt = df.loc[~((df == float(\"-inf\")).any(axis=1))]\n",
    "        df_filt.reset_index(drop=True, inplace=True)\n",
    "\n",
    "        if position == 1:\n",
    "            df_filt = df_filt.loc[154:]  # Only for Position 1\n",
    "\n",
    "    elif frequency_mhz == 40:\n",
    "        if position != 2:\n",
    "            df.drop([\"gNB0\", \"P0\"], axis=1, inplace=True)\n",
    "        else:\n",
    "            df.drop([\"gNB1\", \"P1\"], axis=1, inplace=True)\n",
    "\n",
    "        df_filt = df.loc[~((toa_measurements == float(\"-inf\")).any(axis=1))]\n",
    "        df_filt.reset_index(drop=True, inplace=True)\n",
    "    \n",
    "    else:\n",
    "        raise RuntimeError(\"Unsupported frequency\")\n",
    "\n",
    "    # Calculating the theoretical values\n",
    "    th_toa = np.linalg.norm(UEs[position] - gNBs, axis=1)\n",
    "    th_tdoa = (th_toa.reshape((-1, 1)) - th_toa)[np.triu_indices(n, k=1)]\n",
    "    result_dict[f\"P{position}\", \"th_tdoa\"] = th_tdoa\n",
    "\n",
    "    # Vectorized version to obtain TDOA values\n",
    "    if position == 4:\n",
    "        toas = df_filt[[\"gNB1\", \"gNB2\", \"gNB3\"]].to_numpy()\n",
    "    else:\n",
    "        toas = df_filt[[\"gNB0\", \"gNB1\", \"gNB2\", \"gNB3\"]].to_numpy()\n",
    "    triu_indices = np.triu_indices(n, k=1)\n",
    "    tdoas = (\n",
    "        toas.reshape((toas.shape[0], toas.shape[1], 1))\n",
    "        - toas.reshape((toas.shape[0], 1, toas.shape[1]))\n",
    "    )[:, triu_indices[0], triu_indices[1]]\n",
    "\n",
    "    # A bit of masking to remove obvious outliers\n",
    "    maskl, masku = (tdoas > -30), tdoas < 30\n",
    "    mask = (maskl & masku).all(axis=1)\n",
    "    tdoas = moving_average(tdoas[mask, :], ma_window)\n",
    "\n",
    "    tdoas = tdoas / frequency * SPEED_OF_LIGHT\n",
    "    tdoas_mean = np.mean(tdoas, axis=0)\n",
    "\n",
    "    # Let's store our precious data\n",
    "    result_dict[f\"P{position}\", \"tdoas\"] = tdoas\n",
    "    result_dict[f\"P{position}\", \"tdoas_mean\"] = tdoas_mean"
   ]
  },
  {
   "cell_type": "code",
   "execution_count": null,
   "metadata": {},
   "outputs": [],
   "source": [
    "difference = 1\n",
    "\n",
    "fig, ax = plt.subplots(figsize=(7, 5))\n",
    "\n",
    "for i in range(0, 6):\n",
    "    if i == 4 and difference > 2:\n",
    "        continue\n",
    "    td = result_dict[f\"P{i}\", \"tdoas\"]\n",
    "    ax.plot(\n",
    "        td[:, difference],\n",
    "        label=f\"P{i} - gNB{triu_indices[0][difference]}-gNB{triu_indices[1][difference]}\",\n",
    "    )\n",
    "\n",
    "ax.set_title(f'Window Size: {result_dict[\"ma\"]} - Bandwidth: {frequency_mhz}MHz')\n",
    "ax.set_xlabel(\"Sample\")\n",
    "ax.set_ylabel(\"TDOA (m)\")\n",
    "ax.legend(loc=\"center left\", bbox_to_anchor=(1, 0.5))\n",
    "\n",
    "plt.show()"
   ]
  },
  {
   "cell_type": "markdown",
   "metadata": {},
   "source": [
    "## Positioning results for all positions"
   ]
  },
  {
   "cell_type": "code",
   "execution_count": 134,
   "metadata": {
    "ExecuteTime": {
     "end_time": "2023-11-12T09:52:29.558679Z",
     "start_time": "2023-11-12T09:52:06.568249Z"
    }
   },
   "outputs": [
    {
     "name": "stdout",
     "output_type": "stream",
     "text": [
      "Finished P0 - Processed 664 points.\n",
      "Finished P1 - Processed 664 points.\n",
      "Finished P2 - Processed 1256 points.\n",
      "Finished P3 - Processed 862 points.\n",
      "Finished P4 - Processed 1192 points.\n",
      "Finished P5 - Processed 301 points.\n"
     ]
    }
   ],
   "source": [
    "# Let's analyze one frequency at a time\n",
    "frequency_mhz = 100  # MHz\n",
    "frequency = [122.88e6 if frequency_mhz == 100 else 61.44]\n",
    "ma_window = 20\n",
    "offset = False\n",
    "lr = 0.1\n",
    "ngnb = 4\n",
    "\n",
    "# f_cor = 1.0000008 # real pps\n",
    "\n",
    "result_dict = {}\n",
    "\n",
    "result_dict[\"ma\"] = ma_window\n",
    "result_dict[\"frequency\"] = frequency\n",
    "result_dict[\"frequency_mhz\"] = frequency_mhz\n",
    "result_dict[\"offset\"] = offset\n",
    "result_dict[\"lr\"] = lr\n",
    "n = 4  # We will use 4 gNBs except for position 4 & 40 MHz examples\n",
    "for position in range(0, 6):\n",
    "    # Reading and filtering\n",
    "    df = pd.read_csv(f\"comnets_data/experiments/exp{position}/{frequency_mhz}mhz.csv\")\n",
    "    df.drop(\n",
    "        [\n",
    "            \"Unnamed: 0\",\n",
    "        ],\n",
    "        axis=1,\n",
    "        inplace=True,\n",
    "    )\n",
    "\n",
    "    # This is internal knowledge\n",
    "    if frequency_mhz == 100:\n",
    "        if ngnb == 4:\n",
    "            gnbs = gNBs\n",
    "        else:\n",
    "            df.drop([\"gNB2\", \"P2\"], axis=1, inplace=True)\n",
    "            n = 3\n",
    "            gnbs = gNBs[1:]\n",
    "\n",
    "        df_filt = df.loc[~((df == float(\"-inf\")).any(axis=1))]\n",
    "        df_filt.reset_index(drop=True, inplace=True)\n",
    "\n",
    "        if position == 1:\n",
    "            df_filt = df_filt.loc[154:]  # Only for Position 1\n",
    "\n",
    "    elif frequency_mhz == 40:\n",
    "        n = 3\n",
    "        if position != 2:\n",
    "            df.drop([\"gNB0\", \"P0\"], axis=1, inplace=True)\n",
    "            gnbs = gNBs[1:, :]\n",
    "        else:\n",
    "            df.drop([\"gNB1\", \"P1\"], axis=1, inplace=True)\n",
    "            gnbs = gNBs[[0, 2, 3], :]\n",
    "\n",
    "        df_filt = df.loc[~((df == float(\"-inf\")).any(axis=1))]\n",
    "        df_filt.reset_index(drop=True, inplace=True)\n",
    "\n",
    "    else:\n",
    "        raise RuntimeError(\"Unsupported frequency\")\n",
    "\n",
    "    # Calculating the theoretical values\n",
    "    th_toa = np.linalg.norm(UEs[position] - gnbs, axis=1)\n",
    "    th_tdoa = (th_toa.reshape((-1, 1)) - th_toa)[np.triu_indices(n, k=1)]\n",
    "    result_dict[f\"P{position}\", \"th_tdoa\"] = th_tdoa\n",
    "\n",
    "    # Vectorized version to obtain TDOA values\n",
    "    if frequency_mhz == 100:\n",
    "        if ngnb == 4:\n",
    "            toas = df_filt[[\"gNB0\", \"gNB1\", \"gNB2\", \"gNB3\"]].to_numpy()\n",
    "        else:\n",
    "            toas = df_filt[[\"gNB0\", \"gNB1\", \"gNB3\"]].to_numpy()\n",
    "    elif frequency_mhz == 40:\n",
    "        if position == 1:\n",
    "            continue\n",
    "        elif position != 2:\n",
    "            toas = df_filt[[\"gNB1\", \"gNB2\", \"gNB3\"]].to_numpy()\n",
    "        else:\n",
    "            toas = df_filt[[\"gNB0\", \"gNB2\", \"gNB3\"]].to_numpy()\n",
    "    else:\n",
    "        raise RuntimeError(\"Unsupported frequency\")\n",
    "\n",
    "    triu_indices = np.triu_indices(n, k=1)\n",
    "    tdoas = (\n",
    "        toas.reshape((toas.shape[0], toas.shape[1], 1))\n",
    "        - toas.reshape((toas.shape[0], 1, toas.shape[1]))\n",
    "    )[:, triu_indices[0], triu_indices[1]]\n",
    "\n",
    "    # A bit of masking to remove obvious outliers\n",
    "    maskl, masku = (tdoas > -7), tdoas < 7\n",
    "    mask = (maskl & masku).all(axis=1)\n",
    "    tdoas = moving_average(tdoas[mask, :], ma_window)\n",
    "\n",
    "    tdoas = tdoas / frequency * SPEED_OF_LIGHT\n",
    "    tdoas_mean = np.mean(tdoas, axis=0)\n",
    "\n",
    "    # Let's start the positioning routines\n",
    "    combination_range = itertools.combinations(np.arange(len(gnbs)), 2)\n",
    "    combinations = np.fromiter(combination_range, dtype=np.dtype((int, 2)))\n",
    "\n",
    "    linear = []\n",
    "    nonlin = []\n",
    "    brute = []\n",
    "    for experiment in range(len(tdoas)):\n",
    "        linpos = linoptim(gNBs, tdoas[experiment, 0:n], input_type=\"xyz\").squeeze()\n",
    "        result = nonlinoptim(\n",
    "            gNBs,\n",
    "            tdoas[experiment, :],\n",
    "            combinations,\n",
    "            num_dim=2,\n",
    "            p0=linpos,\n",
    "            input_type=\"xyz\",\n",
    "            use_offset=offset,\n",
    "            l=lr,\n",
    "        )\n",
    "        rbrute = brutefoptim(gNBs, tdoas[experiment,:], combinations, num_dim=2, input_type=\"xyz\")\n",
    "\n",
    "        linear.append(linpos)\n",
    "        nonlin.append(result)\n",
    "        brute.append(rbrute)\n",
    "    \n",
    "    result_dict[f'P{position}','linear'] = np.array(linear)\n",
    "    result_dict[f'P{position}','nonlin'] = np.array(nonlin)\n",
    "    result_dict[f'P{position}','brute'] = np.array(brute)\n",
    "    print(f\"Finished P{position} - Processed {len(tdoas)} points.\")\n",
    "\n",
    "now = round(datetime.datetime.now().timestamp())\n",
    "with open(f'comnets_data/results/experiments/{n}_{frequency_mhz}mhz_window_{ma_window}_offset_{offset}_lr_{round(lr*100)}.pickle', 'wb') as handle:\n",
    "    pickle.dump(result_dict, handle, protocol=pickle.HIGHEST_PROTOCOL)"
   ]
  },
  {
   "cell_type": "markdown",
   "metadata": {},
   "source": [
    "## Processing the results"
   ]
  },
  {
   "cell_type": "code",
   "execution_count": 136,
   "metadata": {
    "ExecuteTime": {
     "end_time": "2023-11-12T09:51:40.059289Z",
     "start_time": "2023-11-12T09:51:40.042059Z"
    }
   },
   "outputs": [],
   "source": [
    "import pickle\n",
    "frequency_mhz = 100\n",
    "\n",
    "with open('comnets_data/results/experiments/4_100mhz_window_20_offset_False_lr_10.pickle', 'rb') as p:\n",
    "        data_no_offset = pickle.load(p)"
   ]
  },
  {
   "cell_type": "code",
   "execution_count": 137,
   "metadata": {
    "ExecuteTime": {
     "end_time": "2023-11-12T09:53:01.104881Z",
     "start_time": "2023-11-12T09:53:01.092644Z"
    }
   },
   "outputs": [],
   "source": [
    "eelin = np.array([])\n",
    "eenli = np.array([])\n",
    "plin = {}\n",
    "\n",
    "for i in range(UEs.shape[0]):\n",
    "    if frequency_mhz == 40 and i == 1:\n",
    "        continue\n",
    "    ue = UEs[i]\n",
    "    lin = data_no_offset[f'P{i}','linear']\n",
    "    nli = data_no_offset[f'P{i}','brute'][:,0:2]\n",
    "\n",
    "    elin = np.linalg.norm(ue-lin,axis=1)\n",
    "    enli = np.linalg.norm(ue-nli,axis=1)\n",
    "\n",
    "    eelin = np.append(eelin, elin)\n",
    "    eenli = np.append(eenli, enli)\n",
    "\n",
    "# eelin = eelin[eelin < 1000]\n",
    "# eenli = eenli[eenli < 1000]\n"
   ]
  },
  {
   "cell_type": "code",
   "execution_count": 138,
   "metadata": {
    "ExecuteTime": {
     "end_time": "2023-11-12T09:53:04.145278Z",
     "start_time": "2023-11-12T09:53:04.041730Z"
    }
   },
   "outputs": [
    {
     "data": {
      "text/plain": [
       "<matplotlib.legend.Legend at 0x17464e930>"
      ]
     },
     "execution_count": 138,
     "metadata": {},
     "output_type": "execute_result"
    },
    {
     "data": {
      "image/png": "[encoded data removed]",
      "text/plain": [
       "<Figure size 800x400 with 1 Axes>"
      ]
     },
     "metadata": {},
     "output_type": "display_data"
    }
   ],
   "source": [
    "f, ax = plt.subplots(figsize=(8, 4))\n",
    "\n",
    "ax.ecdf(eelin)\n",
    "ax.ecdf(eenli)\n",
    "\n",
    "ax.set_xlim([0,5])\n",
    "ax.grid()\n",
    "\n",
    "ax.set_title(f'Bandwidth: {frequency_mhz} MHz')\n",
    "ax.set_xlabel('Error (m)')\n",
    "ax.legend(['Linear', 'Non-Linear/Brute-Force'])"
   ]
  },
  {
   "cell_type": "code",
   "execution_count": 144,
   "metadata": {
    "ExecuteTime": {
     "end_time": "2023-11-12T09:54:15.002625Z",
     "start_time": "2023-11-12T09:54:14.948049Z"
    }
   },
   "outputs": [
    {
     "data": {
      "image/png": "[encoded data removed]",
      "text/plain": [
       "<Figure size 1000x500 with 1 Axes>"
      ]
     },
     "metadata": {},
     "output_type": "display_data"
    }
   ],
   "source": [
    "poss = [0,1,2,3,4,5]\n",
    "\n",
    "fig, ax = plt.subplots(figsize=(10, 5))\n",
    "\n",
    "ax.set_xticks([])\n",
    "ax.set_yticks([])\n",
    "\n",
    "ax.scatter(gNBs[:,0], gNBs[:,1], 180, 'darkgreen', 's', edgecolors='black')\n",
    "\n",
    "for pos in poss:\n",
    "    pts = data_no_offset[f'P{pos}','brute']\n",
    "    ax.scatter(pts[:,0], pts[:,1], 140, '#ffaa77', 'o', alpha=.4, edgecolors='black')\n",
    "\n",
    "    ax.scatter(UEs[pos,0],UEs[pos,1], 150, 'firebrick', 'H', edgecolors='black')\n",
    "\n",
    "\n",
    "ax.set_xlim([np.min(gNBs[:,0])-1.0, np.max(gNBs[:,0])+1.0])\n",
    "ax.set_ylim([np.min(gNBs[:,1])-1.0, np.max(gNBs[:,1])+1.0])\n",
    "\n",
    "ax.legend(('gNBs','Results','UE'), loc=\"center left\", bbox_to_anchor=(1, 0.5))\n",
    "ax.set_title(f'Position {poss}')\n",
    "\n",
    "plt.gca().set_aspect('equal')\n",
    "plt.show()"
   ]
  },
  {
   "cell_type": "code",
   "execution_count": 142,
   "metadata": {},
   "outputs": [
    {
     "data": {
      "text/plain": [
       "array([[ 1.28100000e+01, -3.00000000e-02],\n",
       "       [ 1.28100000e+01,  3.84000000e+00],\n",
       "       [-2.35132185e-16,  3.84000000e+00],\n",
       "       [ 0.00000000e+00,  0.00000000e+00]])"
      ]
     },
     "execution_count": 142,
     "metadata": {},
     "output_type": "execute_result"
    }
   ],
   "source": [
    "gNBs"
   ]
  }
 ],
 "metadata": {
  "kernelspec": {
   "display_name": "pytdoa-ArcY7ZMD-py3.8",
   "language": "python",
   "name": "python3"
  },
  "language_info": {
   "codemirror_mode": {
    "name": "ipython",
    "version": 3
   },
   "file_extension": ".py",
   "mimetype": "text/x-python",
   "name": "python",
   "nbconvert_exporter": "python",
   "pygments_lexer": "ipython3",
   "version": "3.12.0"
  },
  "orig_nbformat": 4,
  "vscode": {
   "interpreter": {
    "hash": "d240e4e55ce5b7ae23ab2049e9594d945179e0aff88ab198ba431dd5e021ca02"
   }
  }
 },
 "nbformat": 4,
 "nbformat_minor": 2
}
