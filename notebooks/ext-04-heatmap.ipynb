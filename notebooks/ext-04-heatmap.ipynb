{
 "cells": [
  {
   "cell_type": "markdown",
   "metadata": {},
   "source": [
    "# Heatmaps for DOP and Cramer Rao Bounds"
   ]
  },
  {
   "cell_type": "code",
   "execution_count": 1,
   "metadata": {},
   "outputs": [],
   "source": [
    "%load_ext autoreload\n",
    "%autoreload 2"
   ]
  },
  {
   "cell_type": "code",
   "execution_count": 2,
   "metadata": {},
   "outputs": [],
   "source": [
    "# We need to join the upper directory in order to access the local modules\n",
    "import datetime\n",
    "import os\n",
    "import pickle\n",
    "import sys\n",
    "\n",
    "module_path = os.path.abspath(os.path.join(\"..\"))\n",
    "if module_path not in sys.path:\n",
    "    sys.path.append(module_path)\n",
    "\n",
    "import itertools\n",
    "import json\n",
    "\n",
    "import matplotlib.pyplot as plt\n",
    "import numpy as np\n",
    "import pandas as pd\n",
    "import scipy"
   ]
  },
  {
   "cell_type": "code",
   "execution_count": 3,
   "metadata": {},
   "outputs": [],
   "source": [
    "plt.rcParams[\"font.family\"] = \"Linux Libertine O\"\n",
    "plt.rcParams[\"font.size\"] = 20"
   ]
  },
  {
   "cell_type": "code",
   "execution_count": 4,
   "metadata": {},
   "outputs": [],
   "source": [
    "with open(\"comnets_data/gnbPositions.json\") as gnb_file:\n",
    "    data = json.load(gnb_file)\n",
    "\n",
    "gNBs = np.array([data[\"gnb0\"], data[\"gnb1\"], data[\"gnb2\"], data[\"gnb3\"]])\n",
    "\n",
    "with open(\"comnets_data/uePositions.json\") as ue_file:\n",
    "    data = json.load(ue_file)\n",
    "\n",
    "UEs = np.array(\n",
    "    [data[\"ue0\"], data[\"ue1\"], data[\"ue2\"], data[\"ue3\"], data[\"ue4\"], data[\"ue5\"]]\n",
    ")"
   ]
  },
  {
   "cell_type": "markdown",
   "metadata": {},
   "source": [
    "## Dilution of Precision"
   ]
  },
  {
   "cell_type": "markdown",
   "metadata": {},
   "source": [
    "Dilution of Precision is easiear to calculate as it depends on geometric parameters (CRLB under constant variance depends only on that too :D)\n",
    "https://en.wikipedia.org/wiki/Dilution_of_precision_(navigation)"
   ]
  },
  {
   "cell_type": "code",
   "execution_count": 5,
   "metadata": {},
   "outputs": [],
   "source": [
    "from util import dop"
   ]
  },
  {
   "cell_type": "code",
   "execution_count": 43,
   "metadata": {},
   "outputs": [],
   "source": [
    "d = dop(UEs[1,:].reshape(-1,2), gNBs)"
   ]
  },
  {
   "cell_type": "code",
   "execution_count": 81,
   "metadata": {},
   "outputs": [],
   "source": [
    "x = np.linspace(0,3.87,50,endpoint=True)\n",
    "y = np.linspace(0,12.81,50,endpoint=True)\n",
    "\n",
    "xx, yy = np.meshgrid(x,y)\n",
    "\n",
    "ps = np.hstack((xx.flatten().reshape(-1,1),yy.flatten().reshape(-1,1)))\n",
    "dp = dop(ps, gNBs)\n",
    "xdop = np.sqrt(dp[:,0]).reshape(xx.shape)"
   ]
  },
  {
   "cell_type": "code",
   "execution_count": 86,
   "metadata": {},
   "outputs": [
    {
     "data": {
      "image/png": "[encoded data removed]",
      "text/plain": [
       "<Figure size 640x480 with 2 Axes>"
      ]
     },
     "metadata": {},
     "output_type": "display_data"
    }
   ],
   "source": [
    "plt.pcolormesh(y,x,xdop.T,vmin=0.0,vmax=2.5)\n",
    "plt.colorbar()\n",
    "plt.gca().set_aspect('equal')\n",
    "plt.show()"
   ]
  },
  {
   "cell_type": "code",
   "execution_count": null,
   "metadata": {},
   "outputs": [],
   "source": []
  }
 ],
 "metadata": {
  "kernelspec": {
   "display_name": ".venv",
   "language": "python",
   "name": "python3"
  },
  "language_info": {
   "codemirror_mode": {
    "name": "ipython",
    "version": 3
   },
   "file_extension": ".py",
   "mimetype": "text/x-python",
   "name": "python",
   "nbconvert_exporter": "python",
   "pygments_lexer": "ipython3",
   "version": "3.12.0"
  }
 },
 "nbformat": 4,
 "nbformat_minor": 2
}
