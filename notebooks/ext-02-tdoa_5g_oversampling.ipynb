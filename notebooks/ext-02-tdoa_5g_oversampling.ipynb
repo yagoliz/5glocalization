{
 "cells": [
  {
   "cell_type": "code",
   "execution_count": null,
   "metadata": {},
   "outputs": [],
   "source": [
    "%load_ext autoreload\n",
    "%autoreload 2"
   ]
  },
  {
   "cell_type": "code",
   "execution_count": null,
   "metadata": {},
   "outputs": [],
   "source": [
    "# We need to join the upper directory in order to access the local modules\n",
    "import os\n",
    "import sys\n",
    "module_path = os.path.abspath(os.path.join('..'))\n",
    "if module_path not in sys.path:\n",
    "    sys.path.append(module_path)"
   ]
  },
  {
   "cell_type": "code",
   "execution_count": null,
   "metadata": {},
   "outputs": [],
   "source": [
    "import itertools\n",
    "import json\n",
    "import logging\n",
    "\n",
    "logging.basicConfig(level=logging.ERROR)\n",
    "logger = logging.getLogger(__name__)"
   ]
  },
  {
   "cell_type": "code",
   "execution_count": null,
   "metadata": {},
   "outputs": [],
   "source": [
    "import matplotlib.pyplot as plt\n",
    "import numpy as np\n",
    "import pandas as pd\n",
    "import scipy\n",
    "\n",
    "from scipy.ndimage import uniform_filter1d\n",
    "from scipy.io import loadmat, savemat"
   ]
  },
  {
   "cell_type": "code",
   "execution_count": null,
   "metadata": {},
   "outputs": [],
   "source": [
    "plt.rcParams['font.family'] = 'Linux Libertine O'\n",
    "plt.rcParams['font.size'] = 10"
   ]
  },
  {
   "cell_type": "code",
   "execution_count": null,
   "metadata": {},
   "outputs": [],
   "source": [
    "from pytdoa.mlat import exact, lls, nlls\n",
    "from pytdoa import brutefoptim, nonlinoptim, linoptim\n",
    "from pytdoa.geometry import generate_heatmap, generate_hyperbola\n",
    "from pytdoa.geodesy import SPEED_OF_LIGHT"
   ]
  },
  {
   "cell_type": "code",
   "execution_count": null,
   "metadata": {},
   "outputs": [],
   "source": [
    "from pytdoa.helpers import moving_average"
   ]
  },
  {
   "cell_type": "code",
   "execution_count": null,
   "metadata": {},
   "outputs": [],
   "source": [
    "# Reading the mat files\n",
    "with open('comnets_data/gnbPositions.json') as gnb_file:\n",
    "    data = json.load(gnb_file)\n",
    "\n",
    "gNBs = np.array([data['gnb0'],data['gnb1'],data['gnb2'],data['gnb3']])\n",
    "\n",
    "with open('comnets_data/uePositions.json') as ue_file:\n",
    "    data = json.load(ue_file)\n",
    "\n",
    "UEs = np.array([data['ue0'],data['ue1'],data['ue2'],data['ue3'],data['ue4'],data['ue5']])\n",
    "UEs"
   ]
  },
  {
   "attachments": {},
   "cell_type": "markdown",
   "metadata": {},
   "source": [
    "## Playing a bit with each of the positions (there are 6 in total)"
   ]
  },
  {
   "cell_type": "code",
   "execution_count": null,
   "metadata": {},
   "outputs": [],
   "source": [
    "POSITION = 4\n",
    "OVERSAMPLING = 16\n",
    "OS_F = float(OVERSAMPLING)\n",
    "FREQUENCY_MHZ = 100 # MHz\n",
    "FREQUENCY = FREQUENCY_MHZ * 1e6"
   ]
  },
  {
   "cell_type": "code",
   "execution_count": null,
   "metadata": {},
   "outputs": [],
   "source": [
    "toa_measurements = pd.read_csv(f'comnets_data/oversampling/os{OVERSAMPLING}/exp{POSITION}_{FREQUENCY_MHZ}mhz.csv')\n",
    "toa_measurements.drop(['Unnamed: 0',], axis=1, inplace=True)\n",
    "toa_measurements.head(7)"
   ]
  },
  {
   "cell_type": "code",
   "execution_count": null,
   "metadata": {},
   "outputs": [],
   "source": [
    "toa_filt = toa_measurements.loc[~((toa_measurements == float('-inf')).any(axis=1))]\n",
    "toa_filt.reset_index(drop=True, inplace=True)\n",
    "\n",
    "toa_filt"
   ]
  },
  {
   "cell_type": "markdown",
   "metadata": {},
   "source": [
    "## Offset exploration"
   ]
  },
  {
   "cell_type": "code",
   "execution_count": null,
   "metadata": {},
   "outputs": [],
   "source": [
    "# Let's plot a bit the drift\n",
    "fig, ax = plt.subplots(figsize=(7, 5))\n",
    "\n",
    "ax.scatter(x=np.arange(len(toa_filt)), y=toa_filt['gNB0'])\n",
    "ax.scatter(x=np.arange(len(toa_filt)), y=toa_filt['gNB2'])\n",
    "\n",
    "ax.legend(['gNB0','gNB1'])\n",
    "\n",
    "ax.set_xlim([0,len(toa_filt)])\n",
    "\n",
    "ax.set_title(f'Position {POSITION} - Bandwidth: {FREQUENCY_MHZ} MHz')\n",
    "ax.set_xlabel('Experiment Number')\n",
    "ax.set_ylabel('Measured ToA (samples)')"
   ]
  },
  {
   "cell_type": "markdown",
   "metadata": {},
   "source": [
    "## Getting some experiments on"
   ]
  },
  {
   "cell_type": "code",
   "execution_count": null,
   "metadata": {},
   "outputs": [],
   "source": [
    "# Calculating the theoretical values\n",
    "theoretical_toa = np.linalg.norm(UEs[POSITION] - gNBs, axis=1)\n",
    "theoretical_tdoa_mat = theoretical_toa.reshape((-1,1)) - theoretical_toa\n",
    "theoretical_tdoa = theoretical_tdoa_mat[np.triu_indices(4,k=1)]\n",
    "theoretical_tdoa"
   ]
  },
  {
   "cell_type": "code",
   "execution_count": null,
   "metadata": {},
   "outputs": [],
   "source": [
    "EXPERIMENT = 1\n",
    "FILTER_WINDOW = 10\n",
    "\n",
    "#\n",
    "gNB_toas_unfiltered = toa_filt[[\"gNB0\",\"gNB1\",\"gNB2\",\"gNB3\"]].to_numpy()\n",
    "gNB_toas = gNB_toas_unfiltered\n",
    "gNB_toas_selected = gNB_toas[EXPERIMENT,:]\n",
    "gNB_tdoas_selected_mat = gNB_toas_selected.reshape(-1,1) - gNB_toas_selected\n",
    "selected_tdoa = gNB_tdoas_selected_mat[np.triu_indices(4,k=1)]\n",
    "selected_tdoa = selected_tdoa / FREQUENCY / OS_F * SPEED_OF_LIGHT\n",
    "selected_tdoa"
   ]
  },
  {
   "cell_type": "code",
   "execution_count": null,
   "metadata": {},
   "outputs": [],
   "source": [
    "# Plot the evolution\n",
    "plt.rcParams['font.family'] = 'Linux Libertine O'\n",
    "plt.rcParams['font.size'] = 10\n",
    "\n",
    "# Comparing regular vs moving average\n",
    "# plt.scatter(x=np.arange(len(toa_filt)),y=toa_filt[])"
   ]
  },
  {
   "cell_type": "code",
   "execution_count": null,
   "metadata": {},
   "outputs": [],
   "source": [
    "linpos = linoptim(gNBs,selected_tdoa[0:4],input_type='xyz').squeeze()\n",
    "print(f\"Calculated Position - x: {linpos[0]:.4f} y: {linpos[1]:.4f}\")\n",
    "print(f\"Real Position - x: {UEs[POSITION,0]:.4f} y: {UEs[POSITION,1]:.4f}\")"
   ]
  },
  {
   "cell_type": "code",
   "execution_count": null,
   "metadata": {},
   "outputs": [],
   "source": [
    "combination_range = itertools.combinations(np.arange(len(gNBs)), 2)\n",
    "combinations = np.fromiter(combination_range, dtype=np.dtype((int,2)))\n",
    "\n",
    "position_nlls = nonlinoptim(gNBs, selected_tdoa, combinations, num_dim=2, p0=np.mean(gNBs,axis=0), input_type=\"xyz\", method=\"BFGS\")\n",
    "position_nlls"
   ]
  },
  {
   "cell_type": "code",
   "execution_count": null,
   "metadata": {},
   "outputs": [],
   "source": [
    "position_brfc = brutefoptim(gNBs, selected_tdoa[0:4], combinations[0:4,:], xrange=10, yrange=10, step=1, epsilon=1e-5, num_dim=2, input_type=\"xyz\")\n",
    "position_brfc"
   ]
  },
  {
   "cell_type": "markdown",
   "metadata": {},
   "source": [
    "## Looping over all values"
   ]
  },
  {
   "cell_type": "code",
   "execution_count": null,
   "metadata": {},
   "outputs": [],
   "source": [
    "position_lls = 50*np.ones((len(toa_filt),2))\n",
    "position_nls = 50*np.ones((len(toa_filt),2))\n",
    "\n",
    "filter_w = 1\n",
    "gNB_toas = moving_average(toa_filt[[\"gNB0\",\"gNB1\",\"gNB2\",\"gNB3\"]].to_numpy(),FILTER_WINDOW)\n",
    "\n",
    "combination_range = itertools.combinations(np.arange(len(gNBs)), 2)\n",
    "combinations = np.fromiter(combination_range, dtype=np.dtype((int,2)))\n",
    "for i in range(len(gNB_toas)):\n",
    "    gNB_toas_selected = gNB_toas[i,:]\n",
    "    gNB_tdoas_selected_mat = gNB_toas_selected.reshape((-1,1)) - gNB_toas_selected\n",
    "    selected_tdoa = gNB_tdoas_selected_mat[np.triu_indices(4,k=1)]\n",
    "    selected_tdoa = selected_tdoa / FREQUENCY / OS_F * SPEED_OF_LIGHT\n",
    "\n",
    "    position_lls[i,:] = linoptim(gNBs,selected_tdoa[0:4],input_type='xyz').squeeze()\n",
    "    position_nls[i,:] = nonlinoptim(gNBs, selected_tdoa[0:4], combinations[0:4,:], num_dim=2, p0=np.mean(gNBs,axis=0), input_type=\"xyz\", method=\"SLSQP\").squeeze()\n"
   ]
  },
  {
   "cell_type": "code",
   "execution_count": null,
   "metadata": {},
   "outputs": [],
   "source": [
    "error_lls = np.linalg.norm((UEs[POSITION,:] - position_lls),axis=1)\n",
    "error_nls = np.linalg.norm((UEs[POSITION,:] - position_nls),axis=1)"
   ]
  },
  {
   "cell_type": "code",
   "execution_count": null,
   "metadata": {},
   "outputs": [],
   "source": [
    "plt.rcParams['font.family'] = 'Linux Libertine O'\n",
    "plt.rcParams['font.size'] = 20"
   ]
  },
  {
   "cell_type": "code",
   "execution_count": null,
   "metadata": {},
   "outputs": [],
   "source": [
    "f, ax = plt.subplots(figsize=(8, 4))\n",
    "\n",
    "ax.ecdf(error_lls)\n",
    "ax.ecdf(error_nls)\n",
    "\n",
    "ax.set_xlim([0,5])\n",
    "ax.grid()\n",
    "\n",
    "ax.set_title(f'Position {POSITION} - Bandwidth: {FREQUENCY_MHZ} MHz - OS: {OVERSAMPLING}')\n",
    "ax.set_xlabel('Error (m)')\n",
    "ax.legend(['Linear', 'Non-Linear/Brute-Force'])"
   ]
  }
 ],
 "metadata": {
  "kernelspec": {
   "display_name": "pytdoa-ArcY7ZMD-py3.8",
   "language": "python",
   "name": "python3"
  },
  "language_info": {
   "codemirror_mode": {
    "name": "ipython",
    "version": 3
   },
   "file_extension": ".py",
   "mimetype": "text/x-python",
   "name": "python",
   "nbconvert_exporter": "python",
   "pygments_lexer": "ipython3",
   "version": "3.12.1"
  },
  "orig_nbformat": 4,
  "vscode": {
   "interpreter": {
    "hash": "d240e4e55ce5b7ae23ab2049e9594d945179e0aff88ab198ba431dd5e021ca02"
   }
  }
 },
 "nbformat": 4,
 "nbformat_minor": 2
}
