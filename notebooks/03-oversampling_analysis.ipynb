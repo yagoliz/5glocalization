{
 "cells": [
  {
   "cell_type": "code",
   "execution_count": 1,
   "metadata": {},
   "outputs": [],
   "source": [
    "%load_ext autoreload\n",
    "%autoreload 2"
   ]
  },
  {
   "cell_type": "code",
   "execution_count": 6,
   "metadata": {},
   "outputs": [],
   "source": [
    "# We need to join the upper directory in order to access the local modules\n",
    "import os\n",
    "import sys\n",
    "module_path = os.path.abspath(os.path.join('..'))\n",
    "if module_path not in sys.path:\n",
    "    sys.path.append(module_path)"
   ]
  },
  {
   "cell_type": "code",
   "execution_count": 3,
   "metadata": {},
   "outputs": [],
   "source": [
    "import numpy as np\n",
    "import pandas as pd\n",
    "from scipy.ndimage import uniform_filter1d\n",
    "from scipy import stats"
   ]
  },
  {
   "cell_type": "code",
   "execution_count": 4,
   "metadata": {},
   "outputs": [],
   "source": [
    "import matplotlib.pyplot as plt\n",
    "import matplotlib.ticker as mticker\n",
    "import seaborn as sns"
   ]
  },
  {
   "cell_type": "code",
   "execution_count": 7,
   "metadata": {},
   "outputs": [],
   "source": [
    "from pytdoa.mlat import exact, lls, nlls\n",
    "from pytdoa.pytdoa import brutefoptim, nonlinoptim, linoptim\n",
    "from pytdoa.util import generate_heatmap, generate_hyperbola\n",
    "from pytdoa.geodesy.geodesy import SPEED_OF_LIGHT"
   ]
  },
  {
   "cell_type": "code",
   "execution_count": 6,
   "metadata": {},
   "outputs": [],
   "source": [
    "fs = 92.16e6\n",
    "cij_meas = np.array([21.64, 14.84, 6.79])\n",
    "cij_meters = cij_meas/(fs * 16) * SPEED_OF_LIGHT # 16 is the oversample used to calculate this offset"
   ]
  },
  {
   "cell_type": "code",
   "execution_count": 7,
   "metadata": {},
   "outputs": [],
   "source": [
    "description = pd.read_csv('tdoa_5g_loc/description.csv')"
   ]
  },
  {
   "cell_type": "code",
   "execution_count": 8,
   "metadata": {},
   "outputs": [],
   "source": [
    "def process_positions(filename):\n",
    "    # gNB and UE parsing\n",
    "    with open(filename) as f:\n",
    "        setup_string = f.readlines()\n",
    "\n",
    "    for line in setup_string:\n",
    "        elem = line.split(\" \")\n",
    "\n",
    "        if elem[0] == 'gnb0':\n",
    "            posxy = elem[1].replace('(','').replace(')','').replace('\\n','').split(\",\")\n",
    "            gnb0 = [float(posxy[0]),float(posxy[1])]\n",
    "        elif elem[0] == 'gnb1':\n",
    "            posxy = elem[1].replace('(','').replace(')','').replace('\\n','').split(\",\")\n",
    "            gnb1 = [float(posxy[0]),float(posxy[1])]\n",
    "        elif elem[0] == 'gnb2':\n",
    "            posxy = elem[1].replace('(','').replace(')','').replace('\\n','').split(\",\")\n",
    "            gnb2 = [float(posxy[0]),float(posxy[1])]\n",
    "        elif elem[0] == 'ue':\n",
    "            posxy = elem[1].replace('(','').replace(')','').replace('\\n','').split(\",\")\n",
    "            ue = [float(posxy[0]),float(posxy[1])]\n",
    "\n",
    "    # Offset calculation\n",
    "    gnb = np.vstack((gnb0,gnb1,gnb2))\n",
    "    ue = np.array(ue)\n",
    "\n",
    "    return (gnb, ue)"
   ]
  },
  {
   "attachments": {},
   "cell_type": "markdown",
   "metadata": {},
   "source": [
    "## Experiments 14-17"
   ]
  },
  {
   "cell_type": "code",
   "execution_count": 17,
   "metadata": {},
   "outputs": [
    {
     "data": {
      "text/html": [
       "<div>\n",
       "<style scoped>\n",
       "    .dataframe tbody tr th:only-of-type {\n",
       "        vertical-align: middle;\n",
       "    }\n",
       "\n",
       "    .dataframe tbody tr th {\n",
       "        vertical-align: top;\n",
       "    }\n",
       "\n",
       "    .dataframe thead th {\n",
       "        text-align: right;\n",
       "    }\n",
       "</style>\n",
       "<table border=\"1\" class=\"dataframe\">\n",
       "  <thead>\n",
       "    <tr style=\"text-align: right;\">\n",
       "      <th></th>\n",
       "      <th>Number</th>\n",
       "      <th>Oversampling</th>\n",
       "      <th>Repetitions</th>\n",
       "      <th>Day</th>\n",
       "      <th>Time</th>\n",
       "    </tr>\n",
       "  </thead>\n",
       "  <tbody>\n",
       "    <tr>\n",
       "      <th>18</th>\n",
       "      <td>14</td>\n",
       "      <td>16</td>\n",
       "      <td>4</td>\n",
       "      <td>22</td>\n",
       "      <td>12:07</td>\n",
       "    </tr>\n",
       "    <tr>\n",
       "      <th>15</th>\n",
       "      <td>14</td>\n",
       "      <td>16</td>\n",
       "      <td>4</td>\n",
       "      <td>22</td>\n",
       "      <td>12:24</td>\n",
       "    </tr>\n",
       "    <tr>\n",
       "      <th>14</th>\n",
       "      <td>14</td>\n",
       "      <td>8</td>\n",
       "      <td>4</td>\n",
       "      <td>22</td>\n",
       "      <td>12:25</td>\n",
       "    </tr>\n",
       "    <tr>\n",
       "      <th>13</th>\n",
       "      <td>14</td>\n",
       "      <td>1</td>\n",
       "      <td>4</td>\n",
       "      <td>22</td>\n",
       "      <td>12:27</td>\n",
       "    </tr>\n",
       "    <tr>\n",
       "      <th>19</th>\n",
       "      <td>15</td>\n",
       "      <td>1</td>\n",
       "      <td>4</td>\n",
       "      <td>22</td>\n",
       "      <td>12:41</td>\n",
       "    </tr>\n",
       "  </tbody>\n",
       "</table>\n",
       "</div>"
      ],
      "text/plain": [
       "    Number  Oversampling  Repetitions  Day   Time\n",
       "18      14            16            4   22  12:07\n",
       "15      14            16            4   22  12:24\n",
       "14      14             8            4   22  12:25\n",
       "13      14             1            4   22  12:27\n",
       "19      15             1            4   22  12:41"
      ]
     },
     "execution_count": 17,
     "metadata": {},
     "output_type": "execute_result"
    }
   ],
   "source": [
    "description_other = description.iloc[13:,:].sort_values(by='Time')\n",
    "description_other = description_other.loc[description_other['Repetitions'] == 4,:]\n",
    "description_other.head(5)"
   ]
  },
  {
   "cell_type": "code",
   "execution_count": 18,
   "metadata": {},
   "outputs": [],
   "source": [
    "ddoa_df = pd.DataFrame(columns=['ddoa12','ddoa13','ddoa23','exp','oversample','uex','uey','gnb1x','gnb1y','gnb2x','gnb2y','gnb3x','gnb3y','c12','c13','c23'])\n",
    "\n",
    "N = 30\n",
    "visited = {}\n",
    "for (idx,row) in description_other.iterrows():\n",
    "    experiment = row['Number']\n",
    "\n",
    "    # We get the positions for gNBs and UE directly from the experiment number\n",
    "    (gnb, ue) = process_positions(f'{os.getcwd()}{os.sep}tdoa_5g_loc/setup/exp{experiment}/note.txt')\n",
    "\n",
    "    # The TOA data is a bit trickier\n",
    "    oversample = row['Oversampling']\n",
    "    repetitions = row['Repetitions']\n",
    "\n",
    "    # Be careful with duplicate experiments\n",
    "    if visited.get(f'{experiment}{oversample}{repetitions}',0) == 0:\n",
    "        data_filename = f'tdoa_5g_loc/setup/exp{experiment}/os{oversample}/prs_rx_{experiment}'\n",
    "        visited[f'{experiment}{oversample}{repetitions}'] = 1\n",
    "    else:\n",
    "        data_filename = f'tdoa_5g_loc/setup/exp{experiment}/os{oversample}/prs_rx_{experiment}_2'\n",
    "\n",
    "    columns = ['0','gnb','1','toa','2','3','4','5','6']\n",
    "\n",
    "    # TOA file parsing\n",
    "    toa = pd.read_csv(data_filename, names=columns, sep=\"s+|;|:|,\", header=None, engine='python')\n",
    "    toa = toa[['gnb','toa']]\n",
    "\n",
    "    toa_0 = toa.loc[toa['gnb'] == 0,:]['toa'].to_numpy()\n",
    "    toa_1 = toa.loc[toa['gnb'] == 1,:]['toa'].to_numpy()\n",
    "    toa_2 = toa.loc[toa['gnb'] == 2,:]['toa'].to_numpy()\n",
    "\n",
    "    min_size = np.min([3000, toa_0.shape[0], toa_1.shape[0], toa_2.shape[0]])\n",
    "    toa_a = np.array([toa_0[0:min_size], toa_1[0:min_size], toa_2[0:min_size]], dtype=float)\n",
    "    toa_av = uniform_filter1d(toa_a, size=N, mode='wrap', axis=1)\n",
    "    tdoa_a = np.array([toa_av[0,:] - toa_av[1,:], toa_av[0,:] - toa_av[2,:], toa_av[1,:] - toa_av[2,:]])\n",
    "    ddoa_a = (tdoa_a / (fs * oversample) * SPEED_OF_LIGHT)\n",
    "\n",
    "    # Let's try and remove absurd values\n",
    "    d12 = np.sqrt(np.sum(np.square(gnb[0,:] - gnb[1,:])))\n",
    "    i12 = np.abs(ddoa_a[0,:]) < d12\n",
    "\n",
    "    d13 = np.sqrt(np.sum(np.square(gnb[0,:] - gnb[2,:])))\n",
    "    i13 = np.abs(ddoa_a[1,:]) < d13\n",
    "\n",
    "    d23 = np.sqrt(np.sum(np.square(gnb[1,:] - gnb[2,:])))\n",
    "    i23 = np.abs(ddoa_a[2,:]) < d23\n",
    "\n",
    "    idx = i12 & i13 & i23\n",
    "    ddoa_a = ddoa_a[:,idx]\n",
    "\n",
    "    # Theoretical DDOA\n",
    "    doa_th = np.sqrt(np.sum(np.square(ue - gnb), axis=1))\n",
    "    ddoa_th = np.array([doa_th[0]-doa_th[1], doa_th[0]-doa_th[2], doa_th[1]-doa_th[2]])\n",
    "    cij_mts = (ddoa_a - ddoa_th.reshape(-1,1)).T\n",
    "    cij_mean = np.mean(cij_mts,axis=1)\n",
    "\n",
    "    ddoa_m = ddoa_a + cij_mean\n",
    "\n",
    "    tmp = pd.DataFrame(ddoa_m.T, columns=['ddoa12','ddoa13','ddoa23'])\n",
    "    tmp['exp'] = row['Time']\n",
    "    tmp['oversample'] = oversample\n",
    "    tmp[['uex','uey']] = np.repeat(ue.reshape(1,-1),tmp.shape[0],axis=0)\n",
    "    tmp[['gnb1x','gnb1y']] = np.repeat(gnb[0,:].reshape(1,-1),tmp.shape[0],axis=0)\n",
    "    tmp[['gnb2x','gnb2y']] = np.repeat(gnb[1,:].reshape(1,-1),tmp.shape[0],axis=0)\n",
    "    tmp[['gnb3x','gnb3y']] = np.repeat(gnb[2,:].reshape(1,-1),tmp.shape[0],axis=0)\n",
    "    tmp[['c12','c13','c23']] = cij_mts\n",
    "    ddoa_df = pd.concat((ddoa_df,tmp),ignore_index=True)\n",
    "\n",
    "ddoa_df = ddoa_df.reset_index()"
   ]
  },
  {
   "cell_type": "code",
   "execution_count": 11,
   "metadata": {},
   "outputs": [
    {
     "data": {
      "text/plain": [
       "array([0.0262365 , 0.04323367, 0.01699717])"
      ]
     },
     "execution_count": 11,
     "metadata": {},
     "output_type": "execute_result"
    }
   ],
   "source": [
    "cij_avg = np.mean(ddoa_df.loc[ddoa_df['oversample'] == 16,:][['c12','c13','c23']],axis=0).to_numpy()\n",
    "cij_avg"
   ]
  },
  {
   "cell_type": "code",
   "execution_count": 12,
   "metadata": {},
   "outputs": [],
   "source": [
    "from datetime import datetime\n",
    "import itertools\n",
    "import pickle"
   ]
  },
  {
   "cell_type": "code",
   "execution_count": 13,
   "metadata": {},
   "outputs": [],
   "source": [
    "error_nlls = {}\n",
    "posit_nlls = {}"
   ]
  },
  {
   "cell_type": "code",
   "execution_count": 19,
   "metadata": {},
   "outputs": [],
   "source": [
    "oversampling_levels = np.unique(ddoa_df['oversample'].to_numpy())"
   ]
  },
  {
   "cell_type": "code",
   "execution_count": 15,
   "metadata": {},
   "outputs": [],
   "source": [
    "def rowfun(row, combinations):\n",
    "    DDOA_av = row[['ddoa12','ddoa13','ddoa23']].to_numpy(dtype=float)\n",
    "    DDOA_av = DDOA_av\n",
    "    gNBs = row[['gnb1x','gnb1y','gnb2x','gnb2y','gnb3x','gnb3y']].to_numpy(dtype=float).reshape(3,2)\n",
    "    UE_poi = row[['uex','uey']].to_numpy()\n",
    "\n",
    "    # NLLS solution\n",
    "    # p = nonlinoptim(gNBs, DDOA_av, combinations, num_dim=2, input_type=\"xyz\", method=\"Newton-CG\").reshape(-1,)\n",
    "    p = brutefoptim(gNBs, DDOA_av, combinations, xrange=10, yrange=10, step = .5, input_type=\"xyz\", num_dim=2)\n",
    "    e = np.sqrt(np.sum((UE_poi-p)**2))\n",
    "\n",
    "    return e"
   ]
  },
  {
   "cell_type": "code",
   "execution_count": 141,
   "metadata": {},
   "outputs": [
    {
     "name": "stdout",
     "output_type": "stream",
     "text": [
      "For oversampling level: 1 - STARTING...FINISHED\n",
      "For oversampling level: 8 - STARTING...FINISHED\n",
      "For oversampling level: 16 - STARTING...FINISHED\n"
     ]
    }
   ],
   "source": [
    "results_df = pd.DataFrame(columns=['error','Oversampling'])\n",
    "\n",
    "combination_range = itertools.combinations(np.arange(3), 2)\n",
    "combinations = np.fromiter(combination_range, dtype=np.dtype((int,2)))\n",
    "\n",
    "for o in oversampling_levels:\n",
    "\n",
    "    data = ddoa_df.loc[ddoa_df['oversample'] == o,:]\n",
    "\n",
    "    # Storing variables\n",
    "    print(f'For oversampling level: {o} - STARTING...', end=\"\")\n",
    "    e = data.apply(lambda row: rowfun(row,combinations),axis=1)\n",
    "\n",
    "    tmp = pd.DataFrame(e,columns=['error'],).reset_index()[['error']]\n",
    "    tmp['Oversampling'] = f'x {o}'\n",
    "\n",
    "    results_df = pd.concat((results_df,tmp),ignore_index=True)\n",
    "    print('FINISHED')\n",
    "\n",
    "\n",
    "ct = int(datetime.timestamp(datetime.now()))\n",
    "results_df.to_pickle(f'tdoa_5g_loc/results/results_oversample_{ct}.pickle')"
   ]
  },
  {
   "attachments": {},
   "cell_type": "markdown",
   "metadata": {},
   "source": [
    "## Plotting"
   ]
  },
  {
   "cell_type": "code",
   "execution_count": 9,
   "metadata": {},
   "outputs": [],
   "source": [
    "results_df = pd.read_pickle('tdoa_5g_loc/results/results_oversample_1676477790.pickle')"
   ]
  },
  {
   "cell_type": "code",
   "execution_count": 10,
   "metadata": {},
   "outputs": [],
   "source": [
    "import json\n",
    "from itertools import cycle\n",
    "\n",
    "import matplotlib.pyplot as plt\n",
    "with open(\"/home/yago_lizarribar/seaborn-styles/ticks.json\", \"r\") as json_stream:\n",
    "    plot_style = json.load(json_stream)\n",
    "\n",
    "from statsmodels.distributions.empirical_distribution import ECDF"
   ]
  },
  {
   "cell_type": "code",
   "execution_count": 11,
   "metadata": {},
   "outputs": [],
   "source": [
    "import scienceplots\n",
    "\n",
    "plt.style.use(['science','ieee'])\n",
    "plt.rcParams.update({'figure.dpi': '100'})"
   ]
  },
  {
   "cell_type": "code",
   "execution_count": 21,
   "metadata": {},
   "outputs": [
    {
     "data": {
      "text/html": [
       "<div>\n",
       "<style scoped>\n",
       "    .dataframe tbody tr th:only-of-type {\n",
       "        vertical-align: middle;\n",
       "    }\n",
       "\n",
       "    .dataframe tbody tr th {\n",
       "        vertical-align: top;\n",
       "    }\n",
       "\n",
       "    .dataframe thead th {\n",
       "        text-align: right;\n",
       "    }\n",
       "</style>\n",
       "<table border=\"1\" class=\"dataframe\">\n",
       "  <thead>\n",
       "    <tr style=\"text-align: right;\">\n",
       "      <th></th>\n",
       "      <th>Error</th>\n",
       "      <th>Oversampling</th>\n",
       "      <th>error</th>\n",
       "    </tr>\n",
       "  </thead>\n",
       "  <tbody>\n",
       "    <tr>\n",
       "      <th>0</th>\n",
       "      <td>NaN</td>\n",
       "      <td>x 1</td>\n",
       "      <td>447.825173</td>\n",
       "    </tr>\n",
       "    <tr>\n",
       "      <th>1</th>\n",
       "      <td>NaN</td>\n",
       "      <td>x 1</td>\n",
       "      <td>376.487197</td>\n",
       "    </tr>\n",
       "    <tr>\n",
       "      <th>2</th>\n",
       "      <td>NaN</td>\n",
       "      <td>x 1</td>\n",
       "      <td>352.381036</td>\n",
       "    </tr>\n",
       "    <tr>\n",
       "      <th>3</th>\n",
       "      <td>NaN</td>\n",
       "      <td>x 1</td>\n",
       "      <td>312.060430</td>\n",
       "    </tr>\n",
       "    <tr>\n",
       "      <th>4</th>\n",
       "      <td>NaN</td>\n",
       "      <td>x 1</td>\n",
       "      <td>363.199539</td>\n",
       "    </tr>\n",
       "    <tr>\n",
       "      <th>...</th>\n",
       "      <td>...</td>\n",
       "      <td>...</td>\n",
       "      <td>...</td>\n",
       "    </tr>\n",
       "    <tr>\n",
       "      <th>16995</th>\n",
       "      <td>NaN</td>\n",
       "      <td>x 16</td>\n",
       "      <td>3.548286</td>\n",
       "    </tr>\n",
       "    <tr>\n",
       "      <th>16996</th>\n",
       "      <td>NaN</td>\n",
       "      <td>x 16</td>\n",
       "      <td>3.457172</td>\n",
       "    </tr>\n",
       "    <tr>\n",
       "      <th>16997</th>\n",
       "      <td>NaN</td>\n",
       "      <td>x 16</td>\n",
       "      <td>3.400375</td>\n",
       "    </tr>\n",
       "    <tr>\n",
       "      <th>16998</th>\n",
       "      <td>NaN</td>\n",
       "      <td>x 16</td>\n",
       "      <td>3.463193</td>\n",
       "    </tr>\n",
       "    <tr>\n",
       "      <th>16999</th>\n",
       "      <td>NaN</td>\n",
       "      <td>x 16</td>\n",
       "      <td>3.532987</td>\n",
       "    </tr>\n",
       "  </tbody>\n",
       "</table>\n",
       "<p>17000 rows × 3 columns</p>\n",
       "</div>"
      ],
      "text/plain": [
       "      Error Oversampling       error\n",
       "0       NaN          x 1  447.825173\n",
       "1       NaN          x 1  376.487197\n",
       "2       NaN          x 1  352.381036\n",
       "3       NaN          x 1  312.060430\n",
       "4       NaN          x 1  363.199539\n",
       "...     ...          ...         ...\n",
       "16995   NaN         x 16    3.548286\n",
       "16996   NaN         x 16    3.457172\n",
       "16997   NaN         x 16    3.400375\n",
       "16998   NaN         x 16    3.463193\n",
       "16999   NaN         x 16    3.532987\n",
       "\n",
       "[17000 rows x 3 columns]"
      ]
     },
     "execution_count": 21,
     "metadata": {},
     "output_type": "execute_result"
    }
   ],
   "source": [
    "results_df"
   ]
  },
  {
   "cell_type": "code",
   "execution_count": 15,
   "metadata": {},
   "outputs": [
    {
     "data": {
      "image/png": "[encoded data removed]",
      "text/plain": [
       "<Figure size 700x400 with 1 Axes>"
      ]
     },
     "metadata": {},
     "output_type": "display_data"
    }
   ],
   "source": [
    "f, ax = plt.subplots(figsize=(7, 4))\n",
    "plt.rcParams.update({'font.size': 22})\n",
    "\n",
    "sns.ecdfplot(data=results_df, x='error',hue='Oversampling',linewidth=2.6)\n",
    "ax.set(xlim=(0, 10),ylim=(-0.05,1.05))\n",
    "ax.set(xlabel=\"Error (m)\", ylabel = \"\")\n",
    "ax.set(xticks=np.arange(1,10),yticks=[0.,.2,.4,.6,.8,1.])\n",
    "\n",
    "# leg = ax.legend(loc='lower right', ncols=1, frameon=True)\n",
    "# leg.get_frame().set_edgecolor((.0,.0,.0,.5))\n",
    "plt.savefig(\"pics/oversample.pdf\", format=\"pdf\", bbox_inches='tight')"
   ]
  },
  {
   "cell_type": "code",
   "execution_count": 20,
   "metadata": {},
   "outputs": [],
   "source": [
    "data_ecdf = pd.DataFrame(columns=['error','prop','Oversampling'])\n",
    "for o in oversampling_levels:\n",
    "    e = np.sort(results_df.loc[results_df['Oversampling'] == f'x {o}',:]['error'].to_numpy())\n",
    "    ecdf = ECDF(e)\n",
    "    p = ecdf(e)\n",
    "\n",
    "    tmp = pd.DataFrame(np.vstack((e,p)).T, columns=['error','prop'])\n",
    "    tmp['Oversampling'] = f'x {o}'\n",
    "    l = np.linspace(0,tmp.shape[0]-1,400,endpoint=True)\n",
    "    tmp = tmp.iloc[l,:]\n",
    "    data_ecdf = pd.concat((data_ecdf,tmp),ignore_index=True)"
   ]
  },
  {
   "cell_type": "code",
   "execution_count": 21,
   "metadata": {},
   "outputs": [
    {
     "data": {
      "text/plain": [
       "array(['x 1', 'x 8', 'x 16'], dtype=object)"
      ]
     },
     "execution_count": 21,
     "metadata": {},
     "output_type": "execute_result"
    }
   ],
   "source": [
    "ls = np.unique(results_df['Oversampling'].to_numpy())\n",
    "ls_ordered = ls[[0,2,1]]\n",
    "ls_ordered"
   ]
  },
  {
   "cell_type": "code",
   "execution_count": 22,
   "metadata": {},
   "outputs": [],
   "source": [
    "cp=sns.color_palette(\"tab10\", 2)\n",
    "colorcycler = cycle(cp)\n",
    "linestyles = [\"dashed\",\"dashed\",\"dashdot\",\"dashdot\",\"solid\",\"solid\",\"dotted\",]\n",
    "linecycler = cycle(linestyles)"
   ]
  },
  {
   "cell_type": "code",
   "execution_count": 27,
   "metadata": {},
   "outputs": [
    {
     "data": {
      "image/png": "[encoded data removed]",
      "text/plain": [
       "<Figure size 700x400 with 1 Axes>"
      ]
     },
     "metadata": {},
     "output_type": "display_data"
    }
   ],
   "source": [
    "f, ax = plt.subplots(figsize=(7, 4))\n",
    "plt.rcParams.update({'font.size': 22})\n",
    "\n",
    "for ls_o in ls_ordered:\n",
    "    data_to_plot = data_ecdf.loc[data_ecdf['Oversampling'] == ls_o,:]\n",
    "    x = data_to_plot['error'].to_numpy()\n",
    "    y = data_to_plot['prop'].to_numpy()\n",
    "\n",
    "    ax.plot(x,y,linewidth=2.3,label=ls_o)\n",
    "\n",
    "ax.set(xlim=(0, 10),ylim=(-0.0,1.0))\n",
    "ax.set(xlabel=\"Error (m)\", ylabel = \"\")\n",
    "ax.set(xticks=np.arange(1,10),yticks=[0.,.2,.4,.6,.8,1.])\n",
    "ax.grid()\n",
    "\n",
    "leg = ax.legend(title='Oversampling', loc='lower right', ncols=1, frameon=True)\n",
    "leg.get_frame().set_edgecolor((.0,.0,.0,.5))\n",
    "plt.savefig(\"pics/oversample.pdf\", format=\"pdf\", bbox_inches='tight')"
   ]
  }
 ],
 "metadata": {
  "kernelspec": {
   "display_name": "pytdoa-ArcY7ZMD-py3.8",
   "language": "python",
   "name": "python3"
  },
  "language_info": {
   "codemirror_mode": {
    "name": "ipython",
    "version": 3
   },
   "file_extension": ".py",
   "mimetype": "text/x-python",
   "name": "python",
   "nbconvert_exporter": "python",
   "pygments_lexer": "ipython3",
   "version": "3.10.12"
  },
  "orig_nbformat": 4,
  "vscode": {
   "interpreter": {
    "hash": "d240e4e55ce5b7ae23ab2049e9594d945179e0aff88ab198ba431dd5e021ca02"
   }
  }
 },
 "nbformat": 4,
 "nbformat_minor": 2
}
