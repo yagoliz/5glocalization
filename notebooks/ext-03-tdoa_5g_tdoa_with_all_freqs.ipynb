{
 "cells": [
  {
   "cell_type": "code",
   "execution_count": 1,
   "metadata": {},
   "outputs": [],
   "source": [
    "# We need to join the upper directory in order to access the local modules\n",
    "import os\n",
    "import pickle\n",
    "import sys\n",
    "\n",
    "import itertools\n",
    "import json\n",
    "\n",
    "import matplotlib.pyplot as plt\n",
    "import numpy as np\n",
    "import pandas as pd\n",
    "import seaborn as sns"
   ]
  },
  {
   "cell_type": "code",
   "execution_count": 2,
   "metadata": {
    "ExecuteTime": {
     "end_time": "2023-11-12T09:43:49.908749Z",
     "start_time": "2023-11-12T09:43:49.900501Z"
    }
   },
   "outputs": [],
   "source": [
    "%load_ext autoreload\n",
    "%autoreload 2"
   ]
  },
  {
   "cell_type": "code",
   "execution_count": 3,
   "metadata": {},
   "outputs": [],
   "source": [
    "module_path = os.path.abspath(os.path.join(\"..\"))\n",
    "if module_path not in sys.path:\n",
    "    sys.path.append(module_path)"
   ]
  },
  {
   "cell_type": "code",
   "execution_count": 4,
   "metadata": {
    "ExecuteTime": {
     "end_time": "2023-11-12T09:43:52.117006Z",
     "start_time": "2023-11-12T09:43:51.861608Z"
    }
   },
   "outputs": [],
   "source": [
    "from pytdoa import nonlinoptim, linoptim  # noqa: E402\n",
    "from pytdoa.mlat import exact\n",
    "from pytdoa.geodesy import SPEED_OF_LIGHT  # noqa: E402\n",
    "from pytdoa.helpers import moving_average # noqa: E402"
   ]
  },
  {
   "cell_type": "code",
   "execution_count": 5,
   "metadata": {
    "ExecuteTime": {
     "end_time": "2023-11-12T09:43:53.272853Z",
     "start_time": "2023-11-12T09:43:53.263396Z"
    }
   },
   "outputs": [],
   "source": [
    "plt.rcParams[\"font.family\"] = \"Stix Two Text\"\n",
    "plt.rcParams[\"font.size\"] = 18"
   ]
  },
  {
   "cell_type": "code",
   "execution_count": 6,
   "metadata": {
    "ExecuteTime": {
     "end_time": "2023-11-12T09:43:54.562527Z",
     "start_time": "2023-11-12T09:43:54.544811Z"
    }
   },
   "outputs": [],
   "source": [
    "# Reading the mat files\n",
    "with open(\"comnets_data/gnbPositions.json\") as gnb_file:\n",
    "    data = json.load(gnb_file)\n",
    "\n",
    "gNBs = np.array([data[\"gnb0\"], data[\"gnb1\"], data[\"gnb2\"], data[\"gnb3\"]])\n",
    "center = gNBs[3,:]\n",
    "Rba = np.array([[np.cos(np.pi/2),-np.sin(np.pi/2),center[0]],[np.sin(np.pi/2),np.cos(np.pi/2),center[1]],[0.0,0.0,1.0]])\n",
    "Rab = np.linalg.inv(Rba)\n",
    "\n",
    "gNBs = np.array([data[\"gnb0\"], data[\"gnb1\"], data[\"gnb2\"], data[\"gnb3\"]])\n",
    "ggs = np.hstack((gNBs,np.ones((4,1))))\n",
    "gNBs = np.matmul(Rab,ggs.T).T\n",
    "gNBs = gNBs[:,0:2]\n",
    "\n",
    "with open(\"comnets_data/uePositions.json\") as ue_file:\n",
    "    data = json.load(ue_file)\n",
    "\n",
    "UEs = np.array(\n",
    "    [data[\"ue0\"], data[\"ue1\"], data[\"ue2\"], data[\"ue3\"], data[\"ue4\"], data[\"ue5\"]]\n",
    ")\n",
    "\n",
    "uus = np.hstack((UEs,np.ones((6,1))))\n",
    "\n",
    "UEs = np.matmul(Rab,uus.T).T\n",
    "UEs = UEs[:,0:2]"
   ]
  },
  {
   "attachments": {},
   "cell_type": "markdown",
   "metadata": {},
   "source": [
    "## Playing a bit with the observed TDOA values"
   ]
  },
  {
   "cell_type": "code",
   "execution_count": 8,
   "metadata": {},
   "outputs": [
    {
     "data": {
      "text/plain": [
       "(2085, 6)"
      ]
     },
     "execution_count": 8,
     "metadata": {},
     "output_type": "execute_result"
    }
   ],
   "source": [
    "# Main params\n",
    "POSITION = 0\n",
    "FREQUENCY_MHZ = 80  # MHz\n",
    "FREQUENCY = FREQUENCY_MHZ * 1e6\n",
    "\n",
    "# Reading and filtering\n",
    "toa_measurements = pd.read_csv(\n",
    "    f\"comnets_data/experiments/exp{POSITION}/{FREQUENCY_MHZ}mhz.csv\"\n",
    ")\n",
    "toa_measurements.drop(\n",
    "    [\n",
    "        \"Unnamed: 0\",\n",
    "    ],\n",
    "    axis=1,\n",
    "    inplace=True,\n",
    ")\n",
    "\n",
    "if FREQUENCY_MHZ == 100:\n",
    "    if POSITION == 4:\n",
    "        toa_measurements = toa_measurements.drop([\"gNB0\", \"P0\"], axis=1)\n",
    "\n",
    "    toa_filt = toa_measurements.loc[~((toa_measurements == float(\"-inf\")).any(axis=1))]\n",
    "    toa_filt.reset_index(drop=True, inplace=True)\n",
    "\n",
    "    if POSITION == 1:\n",
    "        toa_filt = toa_filt.loc[154:]  # Only for Position 1\n",
    "\n",
    "elif FREQUENCY_MHZ == 40:\n",
    "    if POSITION != 2:\n",
    "        toa_measurements = toa_measurements.drop([\"gNB0\", \"P0\"], axis=1)\n",
    "    else:\n",
    "        toa_measurements = toa_measurements.drop([\"gNB1\", \"P1\"], axis=1)\n",
    "\n",
    "    toa_filt = toa_measurements.loc[~((toa_measurements == float(\"-inf\")).any(axis=1))]\n",
    "    toa_filt.reset_index(drop=True, inplace=True)\n",
    "\n",
    "elif FREQUENCY_MHZ == 80:\n",
    "    toa_measurements = toa_measurements.drop([\"gNB1\",\"P1\"],axis=1)\n",
    "    toa_filt = toa_measurements.loc[~((toa_measurements == float(\"-inf\")).any(axis=1))]\n",
    "    toa_filt.reset_index(drop=True, inplace=True)\n",
    "else:\n",
    "    raise RuntimeError(\"Not a supported frequency\")\n",
    "toa_filt.shape"
   ]
  },
  {
   "cell_type": "code",
   "execution_count": 9,
   "metadata": {},
   "outputs": [
    {
     "data": {
      "text/plain": [
       "array([ 0.07449244,  0.71944549,  0.6470774 ,  0.64495304,  0.57258496,\n",
       "       -0.07236809])"
      ]
     },
     "execution_count": 9,
     "metadata": {},
     "output_type": "execute_result"
    }
   ],
   "source": [
    "# Calculating the theoretical values\n",
    "th_toa = np.linalg.norm(UEs[POSITION] - gNBs, axis=1)\n",
    "th_tdoa = (th_toa.reshape((-1, 1)) - th_toa)[np.triu_indices(4, k=1)]\n",
    "th_tdoa"
   ]
  },
  {
   "cell_type": "code",
   "execution_count": 12,
   "metadata": {},
   "outputs": [],
   "source": [
    "# Moving Average parameters\n",
    "ma_window = 50\n",
    "\n",
    "# Vectorized version to obtain TDOA values\n",
    "if FREQUENCY_MHZ == 100:\n",
    "    toas = toa_filt[[\"gNB0\", \"gNB1\", \"gNB2\", \"gNB3\"]].to_numpy()\n",
    "    triu_indices = np.triu_indices(4, k=1)\n",
    "    tdoas = (\n",
    "        toas.reshape((toas.shape[0], toas.shape[1], 1))\n",
    "        - toas.reshape((toas.shape[0], 1, toas.shape[1]))\n",
    "    )[:, triu_indices[0], triu_indices[1]]\n",
    "elif FREQUENCY_MHZ == 80:\n",
    "    toas = toa_filt[[\"gNB0\", \"gNB2\", \"gNB3\"]].to_numpy()\n",
    "    triu_indices = np.triu_indices(3, k=1)\n",
    "    tdoas = (\n",
    "        toas.reshape((toas.shape[0], toas.shape[1], 1))\n",
    "        - toas.reshape((toas.shape[0], 1, toas.shape[1]))\n",
    "    )[:, triu_indices[0], triu_indices[1]]\n",
    "else:\n",
    "    toas = toa_filt[[\"gNB1\", \"gNB2\", \"gNB3\"]].to_numpy()\n",
    "    triu_indices = np.triu_indices(3, k=1)\n",
    "    tdoas = (\n",
    "        toas.reshape((toas.shape[0], toas.shape[1], 1))\n",
    "        - toas.reshape((toas.shape[0], 1, toas.shape[1]))\n",
    "    )[:, triu_indices[0], triu_indices[1]]\n",
    "\n",
    "# A bit of masking to remove obvious outliers\n",
    "maskl, masku = (tdoas > -20), tdoas < 20\n",
    "mask = (maskl & masku).all(axis=1)\n",
    "tdoas = moving_average(tdoas[mask, :], ma_window)\n",
    "\n",
    "tdoas = tdoas / FREQUENCY * SPEED_OF_LIGHT\n",
    "tdoa_mean = np.mean(tdoas, axis=0)"
   ]
  },
  {
   "cell_type": "code",
   "execution_count": 22,
   "metadata": {},
   "outputs": [],
   "source": [
    "experiment = 100\n",
    "combination_range = itertools.combinations(np.arange(3), 2)\n",
    "combinations = np.fromiter(combination_range, dtype=np.dtype((int,2)))"
   ]
  },
  {
   "cell_type": "code",
   "execution_count": 20,
   "metadata": {},
   "outputs": [
    {
     "name": "stdout",
     "output_type": "stream",
     "text": [
      "Calculated Position - x: -46.9543 y: 179.9233\n",
      "Real Position - x: 6.0700 y: 2.0400\n"
     ]
    }
   ],
   "source": [
    "linpos = linoptim(gNBs,tdoas[experiment,:],input_type='xyz').squeeze()\n",
    "print(f\"Calculated Position - x: {linpos[0]:.4f} y: {linpos[1]:.4f}\")\n",
    "print(f\"Real Position - x: {UEs[POSITION,0]:.4f} y: {UEs[POSITION,1]:.4f}\")"
   ]
  },
  {
   "cell_type": "code",
   "execution_count": 23,
   "metadata": {},
   "outputs": [
    {
     "name": "stdout",
     "output_type": "stream",
     "text": [
      "Calculated Position - x: 5.0058 y: 4.8400\n"
     ]
    }
   ],
   "source": [
    "result = nonlinoptim(gNBs, tdoas[experiment,:], combinations, num_dim=2, p0=linpos, input_type=\"xyz\")\n",
    "print(f\"Calculated Position - x: {result[0]:.4f} y: {result[1]:.4f}\")"
   ]
  },
  {
   "cell_type": "markdown",
   "metadata": {},
   "source": [
    "## Let's get TDOA offsets for all positions"
   ]
  },
  {
   "cell_type": "code",
   "execution_count": 7,
   "metadata": {},
   "outputs": [
    {
     "data": {
      "text/plain": [
       "13.381816020256743"
      ]
     },
     "execution_count": 7,
     "metadata": {},
     "output_type": "execute_result"
    }
   ],
   "source": [
    "gNBc = gNBs[:,0] + 1j*gNBs[:,1]\n",
    "dmax = np.max(np.abs(gNBc.reshape(-1,1) - gNBc))\n",
    "dmax"
   ]
  },
  {
   "cell_type": "code",
   "execution_count": 277,
   "metadata": {},
   "outputs": [
    {
     "name": "stdout",
     "output_type": "stream",
     "text": [
      "Results saved to: 4_100mhz_window_10.pickle\n"
     ]
    }
   ],
   "source": [
    "# Let's analyze one frequency at a time\n",
    "frequency_mhz = 100  # MHz\n",
    "frequency = frequency_mhz * 1e6\n",
    "if frequency_mhz == 100:\n",
    "    frequency = 122.88e6\n",
    "elif frequency_mhz == 80:\n",
    "    frequency = 92.16e6\n",
    "elif frequency_mhz == 40:\n",
    "    frequency = 61.44e6\n",
    "ma_window = 10\n",
    "\n",
    "result_dict = {}\n",
    "\n",
    "result_dict[\"ma\"] = ma_window\n",
    "result_dict[\"frequency\"] = frequency\n",
    "result_dict[\"frequency_mhz\"] = frequency_mhz\n",
    "ngnb = 4\n",
    "n = 4\n",
    "for position in [0, 4, 5]:\n",
    "    # Reading and filtering\n",
    "    df = pd.read_csv(f\"comnets_data/experiments/exp{position}/{frequency_mhz}mhz.csv\")\n",
    "    df.drop(\n",
    "        [\n",
    "            \"Unnamed: 0\",\n",
    "        ],\n",
    "        axis=1,\n",
    "        inplace=True,\n",
    "    )\n",
    "\n",
    "    # This is internal knowledge\n",
    "    if frequency_mhz == 100:\n",
    "        if ngnb == 4:\n",
    "            gnbs = gNBs\n",
    "        else:\n",
    "            df.drop([\"gNB0\", \"P0\"], axis=1, inplace=True)\n",
    "            n = 3\n",
    "            gnbs = gNBs[1:]\n",
    "\n",
    "        df_filt = df.loc[~((df == float(\"-inf\")).any(axis=1))]\n",
    "        df_filt.reset_index(drop=True, inplace=True)\n",
    "\n",
    "        if position == 1:\n",
    "            df_filt = df_filt.loc[154:]  # Only for Position 1\n",
    "\n",
    "    elif frequency_mhz == 80:\n",
    "        n = 3\n",
    "        df.drop([\"gNB1\", \"P1\"], axis=1, inplace=True)\n",
    "        gnbs = gNBs[[0, 2, 3], :]\n",
    "\n",
    "        df_filt = df.loc[~((df == float(\"-inf\")).any(axis=1))]\n",
    "        df_filt.reset_index(drop=True, inplace=True)\n",
    "\n",
    "    elif frequency_mhz == 40:\n",
    "        n = 3\n",
    "        if position != 2:\n",
    "            df.drop([\"gNB0\", \"P0\"], axis=1, inplace=True)\n",
    "            gnbs = gNBs[1:, :]\n",
    "        else:\n",
    "            df.drop([\"gNB1\", \"P1\"], axis=1, inplace=True)\n",
    "            gnbs = gNBs[[0, 2, 3], :]\n",
    "\n",
    "        df_filt = df.loc[~((df == float(\"-inf\")).any(axis=1))]\n",
    "        df_filt.reset_index(drop=True, inplace=True)\n",
    "\n",
    "    else:\n",
    "        raise RuntimeError(\"Unsupported frequency\")\n",
    "\n",
    "    # Calculating the theoretical values\n",
    "    th_toa = np.linalg.norm(UEs[position] - gnbs, axis=1)\n",
    "    th_tdoa = (th_toa.reshape((-1, 1)) - th_toa)[np.triu_indices(n, k=1)]\n",
    "    result_dict[f\"P{position}\", \"th_tdoa\"] = th_tdoa\n",
    "\n",
    "    # Vectorized version to obtain TDOA values\n",
    "    if frequency_mhz == 100:\n",
    "        if ngnb == 4:\n",
    "            toas = df_filt[[\"gNB0\", \"gNB1\", \"gNB2\", \"gNB3\"]].to_numpy()\n",
    "        else:\n",
    "            toas = df_filt[[\"gNB1\", \"gNB2\", \"gNB3\"]].to_numpy()\n",
    "\n",
    "    elif frequency_mhz == 80:\n",
    "        toas = df_filt[[\"gNB0\", \"gNB2\", \"gNB3\"]].to_numpy()\n",
    "\n",
    "    elif frequency_mhz == 40:\n",
    "        if position == 1:\n",
    "            continue\n",
    "        elif position != 2:\n",
    "            toas = df_filt[[\"gNB1\", \"gNB2\", \"gNB3\"]].to_numpy()\n",
    "        else:\n",
    "            toas = df_filt[[\"gNB0\", \"gNB2\", \"gNB3\"]].to_numpy()\n",
    "    else:\n",
    "        raise RuntimeError(\"Unsupported frequency\")\n",
    "\n",
    "    triu_indices = np.triu_indices(n, k=1)\n",
    "    tdoas = (\n",
    "        toas.reshape((toas.shape[0], toas.shape[1], 1))\n",
    "        - toas.reshape((toas.shape[0], 1, toas.shape[1]))\n",
    "    )[:, triu_indices[0], triu_indices[1]]\n",
    "\n",
    "    # A bit of masking to remove obvious outliers\n",
    "    mtdoa = dmax / SPEED_OF_LIGHT * frequency\n",
    "    maskl, masku = (tdoas > -mtdoa), tdoas < mtdoa\n",
    "    mask = (maskl & masku).all(axis=1)\n",
    "    tdoas = moving_average(tdoas[mask, :], ma_window)\n",
    "    tdoas = tdoas / frequency * SPEED_OF_LIGHT\n",
    "\n",
    "    # Let's store our precious data\n",
    "    result_dict[f\"P{position}\", \"tdoas\"] = tdoas\n",
    "    result_dict[f\"P{position}\", \"tdoas_mean\"] = tdoas - th_tdoa\n",
    "\n",
    "#\n",
    "filename = f\"{n}_{frequency_mhz}mhz_window_{ma_window}.pickle\"\n",
    "with open(f\"comnets_data/results/offsets/{filename}\", \"wb\") as handle:\n",
    "    pickle.dump(result_dict, handle, protocol=pickle.HIGHEST_PROTOCOL)\n",
    "\n",
    "print(f\"Results saved to: {filename}\")"
   ]
  },
  {
   "cell_type": "markdown",
   "metadata": {},
   "source": [
    "## Result analysis"
   ]
  },
  {
   "cell_type": "code",
   "execution_count": 8,
   "metadata": {},
   "outputs": [],
   "source": [
    "w = 50\n",
    "with open(f'comnets_data/results/offsets/4_100mhz_window_{w}.pickle', 'rb') as p:\n",
    "    data_100 = pickle.load(p)\n",
    "\n",
    "with open(f'comnets_data/results/offsets/3_80mhz_window_{w}.pickle', 'rb') as p:\n",
    "    data_80 = pickle.load(p)\n",
    "\n",
    "with open(f'comnets_data/results/offsets/3_40mhz_window_{w}.pickle', 'rb') as p:\n",
    "    data_40 = pickle.load(p)\n",
    "\n",
    "w = 10\n",
    "with open(f'comnets_data/results/offsets/4_100mhz_window_{w}.pickle', 'rb') as p:\n",
    "    data_100_w10 = pickle.load(p)\n",
    "\n",
    "with open(f'comnets_data/results/offsets/3_80mhz_window_{w}.pickle', 'rb') as p:\n",
    "    data_80_w10 = pickle.load(p)\n",
    "\n",
    "with open(f'comnets_data/results/offsets/3_40mhz_window_{w}.pickle', 'rb') as p:\n",
    "    data_40_w10 = pickle.load(p)"
   ]
  },
  {
   "cell_type": "code",
   "execution_count": 9,
   "metadata": {},
   "outputs": [],
   "source": [
    "gnb23_100 = np.array([])\n",
    "gnb23_80 = np.array([])\n",
    "gnb23_40 = np.array([])\n",
    "\n",
    "wind = np.array([])\n",
    "for p in [0,4,5]:\n",
    "    gnb23_100 = np.append(gnb23_100,data_100[f'P{p}','tdoas_mean'][:,-1])\n",
    "    wind = np.append(wind,['50'] * len(data_100[f'P{p}','tdoas_mean'][:,-1]))\n",
    "    gnb23_100 = np.append(gnb23_100,data_100_w10[f'P{p}','tdoas_mean'][:,-1])\n",
    "    wind = np.append(wind,['10'] * len(data_100_w10[f'P{p}','tdoas_mean'][:,-1]))\n",
    "\n",
    "    gnb23_80 = np.append(gnb23_80,data_80[f'P{p}','tdoas_mean'][:,-1])\n",
    "    wind = np.append(wind,['50'] * len(data_80[f'P{p}','tdoas_mean'][:,-1]))\n",
    "    gnb23_80 = np.append(gnb23_80,data_80_w10[f'P{p}','tdoas_mean'][:,-1])\n",
    "    wind = np.append(wind,['10'] * len(data_80_w10[f'P{p}','tdoas_mean'][:,-1]))\n",
    "\n",
    "    gnb23_40 = np.append(gnb23_40,data_40[f'P{p}','tdoas_mean'][:,-1])\n",
    "    wind = np.append(wind,['50'] * len(data_40[f'P{p}','tdoas_mean'][:,-1]))\n",
    "    gnb23_40 = np.append(gnb23_40,data_40_w10[f'P{p}','tdoas_mean'][:,-1])\n",
    "    wind = np.append(wind,['10'] * len(data_40_w10[f'P{p}','tdoas_mean'][:,-1]))\n",
    "\n",
    "tdoas = np.append(gnb23_40,np.append(gnb23_80,gnb23_100))\n",
    "\n",
    "tag_100 = len(gnb23_100) * ['100 MHz']\n",
    "tag_80 = len(gnb23_80) * ['80 MHz']\n",
    "tag_40 = len(gnb23_40) * ['40 MHz']\n",
    "tags = np.append(tag_40, np.append(tag_80,tag_100))"
   ]
  },
  {
   "cell_type": "code",
   "execution_count": 10,
   "metadata": {},
   "outputs": [],
   "source": [
    "df = pd.DataFrame()\n",
    "df['Error'] = tdoas\n",
    "df['Bandwidth'] = tags\n",
    "df['Window Size'] = wind"
   ]
  },
  {
   "cell_type": "code",
   "execution_count": 11,
   "metadata": {},
   "outputs": [
    {
     "data": {
      "text/html": [
       "<svg  width=\"550\" height=\"55\"><rect x=\"0\" y=\"0\" width=\"55\" height=\"55\" style=\"fill:#f8766d;stroke-width:2;stroke:rgb(255,255,255)\"/><rect x=\"55\" y=\"0\" width=\"55\" height=\"55\" style=\"fill:#619cff;stroke-width:2;stroke:rgb(255,255,255)\"/><rect x=\"110\" y=\"0\" width=\"55\" height=\"55\" style=\"fill:#8de5a1;stroke-width:2;stroke:rgb(255,255,255)\"/><rect x=\"165\" y=\"0\" width=\"55\" height=\"55\" style=\"fill:#ff9f9b;stroke-width:2;stroke:rgb(255,255,255)\"/><rect x=\"220\" y=\"0\" width=\"55\" height=\"55\" style=\"fill:#d0bbff;stroke-width:2;stroke:rgb(255,255,255)\"/><rect x=\"275\" y=\"0\" width=\"55\" height=\"55\" style=\"fill:#debb9b;stroke-width:2;stroke:rgb(255,255,255)\"/><rect x=\"330\" y=\"0\" width=\"55\" height=\"55\" style=\"fill:#fab0e4;stroke-width:2;stroke:rgb(255,255,255)\"/><rect x=\"385\" y=\"0\" width=\"55\" height=\"55\" style=\"fill:#cfcfcf;stroke-width:2;stroke:rgb(255,255,255)\"/><rect x=\"440\" y=\"0\" width=\"55\" height=\"55\" style=\"fill:#fffea3;stroke-width:2;stroke:rgb(255,255,255)\"/><rect x=\"495\" y=\"0\" width=\"55\" height=\"55\" style=\"fill:#b9f2f0;stroke-width:2;stroke:rgb(255,255,255)\"/></svg>"
      ],
      "text/plain": [
       "[(0.973, 0.463, 0.427),\n",
       " (0.38, 0.612, 1),\n",
       " (0.5529411764705883, 0.8980392156862745, 0.6313725490196078),\n",
       " (1.0, 0.6235294117647059, 0.6078431372549019),\n",
       " (0.8156862745098039, 0.7333333333333333, 1.0),\n",
       " (0.8705882352941177, 0.7333333333333333, 0.6078431372549019),\n",
       " (0.9803921568627451, 0.6901960784313725, 0.8941176470588236),\n",
       " (0.8117647058823529, 0.8117647058823529, 0.8117647058823529),\n",
       " (1.0, 0.996078431372549, 0.6392156862745098),\n",
       " (0.7254901960784313, 0.9490196078431372, 0.9411764705882353)]"
      ]
     },
     "execution_count": 11,
     "metadata": {},
     "output_type": "execute_result"
    }
   ],
   "source": [
    "p = sns.color_palette(\"pastel\")\n",
    "p[0] = (0.973, 0.463, 0.427)\n",
    "p[1] = (0.38, 0.612, 1)\n",
    "p"
   ]
  },
  {
   "cell_type": "code",
   "execution_count": 14,
   "metadata": {},
   "outputs": [
    {
     "data": {
      "image/png": "[encoded data removed]",
      "text/plain": [
       "<Figure size 1200x400 with 1 Axes>"
      ]
     },
     "metadata": {},
     "output_type": "display_data"
    }
   ],
   "source": [
    "f, ax = plt.subplots(figsize=(12,4))\n",
    "ax.grid()\n",
    "\n",
    "\n",
    "sns.violinplot(df, x='Bandwidth', y='Error', hue='Window Size', hue_order=['10','50'], split=True, inner=\"quart\", ax=ax, alpha=.8, palette=p[0:2])\n",
    "\n",
    "ax.set_ylabel('Error (m)')\n",
    "ax.set_yticks(np.arange(-6,7,2))\n",
    "ax.set_ylim(-6.5,6.5)\n",
    "\n",
    "ax.legend(loc='lower right', ncol=2, title='Window Size')\n",
    "\n",
    "plt.savefig('../pics/comnets/offsets.pdf', format='pdf', bbox_inches='tight')\n",
    "plt.show()"
   ]
  }
 ],
 "metadata": {
  "kernelspec": {
   "display_name": "pytdoa-ArcY7ZMD-py3.8",
   "language": "python",
   "name": "python3"
  },
  "language_info": {
   "codemirror_mode": {
    "name": "ipython",
    "version": 3
   },
   "file_extension": ".py",
   "mimetype": "text/x-python",
   "name": "python",
   "nbconvert_exporter": "python",
   "pygments_lexer": "ipython3",
   "version": "3.12.1"
  },
  "orig_nbformat": 4,
  "vscode": {
   "interpreter": {
    "hash": "d240e4e55ce5b7ae23ab2049e9594d945179e0aff88ab198ba431dd5e021ca02"
   }
  }
 },
 "nbformat": 4,
 "nbformat_minor": 2
}
