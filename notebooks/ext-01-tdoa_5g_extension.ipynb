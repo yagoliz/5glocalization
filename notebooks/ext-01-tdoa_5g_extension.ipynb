{
 "cells": [
  {
   "cell_type": "code",
   "execution_count": 1,
   "metadata": {},
   "outputs": [],
   "source": [
    "%load_ext autoreload\n",
    "%autoreload 2"
   ]
  },
  {
   "cell_type": "code",
   "execution_count": 2,
   "metadata": {},
   "outputs": [],
   "source": [
    "# We need to join the upper directory in order to access the local modules\n",
    "import os\n",
    "import sys\n",
    "module_path = os.path.abspath(os.path.join('..'))\n",
    "if module_path not in sys.path:\n",
    "    sys.path.append(module_path)"
   ]
  },
  {
   "cell_type": "code",
   "execution_count": 3,
   "metadata": {},
   "outputs": [],
   "source": [
    "import itertools\n",
    "import json\n",
    "import logging\n",
    "\n",
    "logging.basicConfig(level=logging.ERROR)\n",
    "logger = logging.getLogger(__name__)"
   ]
  },
  {
   "cell_type": "code",
   "execution_count": 4,
   "metadata": {},
   "outputs": [],
   "source": [
    "import matplotlib.pyplot as plt\n",
    "import numpy as np\n",
    "import pandas as pd\n",
    "import plotly.express as px\n",
    "import plotly.io as pio\n",
    "import seaborn as sns\n",
    "import scipy\n",
    "\n",
    "from scipy.ndimage import uniform_filter1d\n",
    "from scipy.io import loadmat, savemat"
   ]
  },
  {
   "cell_type": "code",
   "execution_count": 5,
   "metadata": {},
   "outputs": [],
   "source": [
    "plt.rcParams['font.family'] = 'Linux Libertine O'\n",
    "plt.rcParams['font.size'] = 20"
   ]
  },
  {
   "cell_type": "code",
   "execution_count": 6,
   "metadata": {},
   "outputs": [],
   "source": [
    "from pytdoa.mlat import exact, lls, nlls\n",
    "from pytdoa.pytdoa import brutefoptim, nonlinoptim, linoptim\n",
    "from pytdoa.util import generate_heatmap, generate_hyperbola\n",
    "from pytdoa.geodesy.geodesy import SPEED_OF_LIGHT"
   ]
  },
  {
   "cell_type": "code",
   "execution_count": 7,
   "metadata": {},
   "outputs": [],
   "source": [
    "fs = [40, 80, 100]\n",
    "oversample = 1"
   ]
  },
  {
   "cell_type": "code",
   "execution_count": 8,
   "metadata": {},
   "outputs": [
    {
     "data": {
      "text/plain": [
       "array([[1.8 , 6.07],\n",
       "       [1.  , 6.07],\n",
       "       [1.8 , 9.14],\n",
       "       [3.28, 2.97],\n",
       "       [0.58, 2.03],\n",
       "       [5.28, 7.68]])"
      ]
     },
     "execution_count": 8,
     "metadata": {},
     "output_type": "execute_result"
    }
   ],
   "source": [
    "# Reading the mat files\n",
    "with open('comnets_data/gnbPositions.json') as gnb_file:\n",
    "    data = json.load(gnb_file)\n",
    "\n",
    "gNBs = np.array([data['gnb0'],data['gnb1'],data['gnb2'],data['gnb3']])\n",
    "\n",
    "with open('comnets_data/uePositions.json') as ue_file:\n",
    "    data = json.load(ue_file)\n",
    "\n",
    "UEs = np.array([data['ue0'],data['ue1'],data['ue2'],data['ue3'],data['ue4'],data['ue5']])\n",
    "UEs"
   ]
  },
  {
   "attachments": {},
   "cell_type": "markdown",
   "metadata": {},
   "source": [
    "## Playing a bit with each of the positions (there are 6 in total)"
   ]
  },
  {
   "cell_type": "code",
   "execution_count": 214,
   "metadata": {},
   "outputs": [],
   "source": [
    "POSITION = 2\n",
    "FREQUENCY_MHZ = 100 # MHz\n",
    "FREQUENCY = FREQUENCY_MHZ * 1e6"
   ]
  },
  {
   "cell_type": "code",
   "execution_count": 215,
   "metadata": {},
   "outputs": [
    {
     "data": {
      "text/html": [
       "<div>\n",
       "<style scoped>\n",
       "    .dataframe tbody tr th:only-of-type {\n",
       "        vertical-align: middle;\n",
       "    }\n",
       "\n",
       "    .dataframe tbody tr th {\n",
       "        vertical-align: top;\n",
       "    }\n",
       "\n",
       "    .dataframe thead th {\n",
       "        text-align: right;\n",
       "    }\n",
       "</style>\n",
       "<table border=\"1\" class=\"dataframe\">\n",
       "  <thead>\n",
       "    <tr style=\"text-align: right;\">\n",
       "      <th></th>\n",
       "      <th>gNB0</th>\n",
       "      <th>P0</th>\n",
       "      <th>gNB1</th>\n",
       "      <th>P1</th>\n",
       "      <th>gNB2</th>\n",
       "      <th>P2</th>\n",
       "      <th>gNB3</th>\n",
       "      <th>P3</th>\n",
       "    </tr>\n",
       "  </thead>\n",
       "  <tbody>\n",
       "    <tr>\n",
       "      <th>0</th>\n",
       "      <td>0.0</td>\n",
       "      <td>-inf</td>\n",
       "      <td>0.0</td>\n",
       "      <td>-inf</td>\n",
       "      <td>0.0</td>\n",
       "      <td>-inf</td>\n",
       "      <td>0.0</td>\n",
       "      <td>-inf</td>\n",
       "    </tr>\n",
       "    <tr>\n",
       "      <th>1</th>\n",
       "      <td>0.0</td>\n",
       "      <td>-inf</td>\n",
       "      <td>0.0</td>\n",
       "      <td>-inf</td>\n",
       "      <td>0.0</td>\n",
       "      <td>-inf</td>\n",
       "      <td>0.0</td>\n",
       "      <td>-inf</td>\n",
       "    </tr>\n",
       "    <tr>\n",
       "      <th>2</th>\n",
       "      <td>0.0</td>\n",
       "      <td>-inf</td>\n",
       "      <td>0.0</td>\n",
       "      <td>-inf</td>\n",
       "      <td>0.0</td>\n",
       "      <td>-inf</td>\n",
       "      <td>0.0</td>\n",
       "      <td>-inf</td>\n",
       "    </tr>\n",
       "    <tr>\n",
       "      <th>3</th>\n",
       "      <td>0.0</td>\n",
       "      <td>-inf</td>\n",
       "      <td>0.0</td>\n",
       "      <td>-inf</td>\n",
       "      <td>0.0</td>\n",
       "      <td>-inf</td>\n",
       "      <td>0.0</td>\n",
       "      <td>-inf</td>\n",
       "    </tr>\n",
       "    <tr>\n",
       "      <th>4</th>\n",
       "      <td>0.0</td>\n",
       "      <td>-inf</td>\n",
       "      <td>0.0</td>\n",
       "      <td>-inf</td>\n",
       "      <td>0.0</td>\n",
       "      <td>-inf</td>\n",
       "      <td>0.0</td>\n",
       "      <td>-inf</td>\n",
       "    </tr>\n",
       "    <tr>\n",
       "      <th>5</th>\n",
       "      <td>0.0</td>\n",
       "      <td>-inf</td>\n",
       "      <td>0.0</td>\n",
       "      <td>-inf</td>\n",
       "      <td>0.0</td>\n",
       "      <td>-inf</td>\n",
       "      <td>0.0</td>\n",
       "      <td>-inf</td>\n",
       "    </tr>\n",
       "    <tr>\n",
       "      <th>6</th>\n",
       "      <td>0.0</td>\n",
       "      <td>-inf</td>\n",
       "      <td>0.0</td>\n",
       "      <td>-inf</td>\n",
       "      <td>0.0</td>\n",
       "      <td>-inf</td>\n",
       "      <td>0.0</td>\n",
       "      <td>-inf</td>\n",
       "    </tr>\n",
       "  </tbody>\n",
       "</table>\n",
       "</div>"
      ],
      "text/plain": [
       "   gNB0   P0  gNB1   P1  gNB2   P2  gNB3   P3\n",
       "0   0.0 -inf   0.0 -inf   0.0 -inf   0.0 -inf\n",
       "1   0.0 -inf   0.0 -inf   0.0 -inf   0.0 -inf\n",
       "2   0.0 -inf   0.0 -inf   0.0 -inf   0.0 -inf\n",
       "3   0.0 -inf   0.0 -inf   0.0 -inf   0.0 -inf\n",
       "4   0.0 -inf   0.0 -inf   0.0 -inf   0.0 -inf\n",
       "5   0.0 -inf   0.0 -inf   0.0 -inf   0.0 -inf\n",
       "6   0.0 -inf   0.0 -inf   0.0 -inf   0.0 -inf"
      ]
     },
     "execution_count": 215,
     "metadata": {},
     "output_type": "execute_result"
    }
   ],
   "source": [
    "toa_measurements = pd.read_csv(f'comnets_data/experiments/exp{POSITION}/{FREQUENCY_MHZ}mhz.csv')\n",
    "toa_measurements.drop(['Unnamed: 0',], axis=1, inplace=True)\n",
    "toa_measurements.head(7)"
   ]
  },
  {
   "cell_type": "code",
   "execution_count": 216,
   "metadata": {},
   "outputs": [
    {
     "data": {
      "text/html": [
       "<div>\n",
       "<style scoped>\n",
       "    .dataframe tbody tr th:only-of-type {\n",
       "        vertical-align: middle;\n",
       "    }\n",
       "\n",
       "    .dataframe tbody tr th {\n",
       "        vertical-align: top;\n",
       "    }\n",
       "\n",
       "    .dataframe thead th {\n",
       "        text-align: right;\n",
       "    }\n",
       "</style>\n",
       "<table border=\"1\" class=\"dataframe\">\n",
       "  <thead>\n",
       "    <tr style=\"text-align: right;\">\n",
       "      <th></th>\n",
       "      <th>gNB0</th>\n",
       "      <th>P0</th>\n",
       "      <th>gNB1</th>\n",
       "      <th>P1</th>\n",
       "      <th>gNB2</th>\n",
       "      <th>P2</th>\n",
       "      <th>gNB3</th>\n",
       "      <th>P3</th>\n",
       "    </tr>\n",
       "  </thead>\n",
       "  <tbody>\n",
       "    <tr>\n",
       "      <th>0</th>\n",
       "      <td>-4.0</td>\n",
       "      <td>-53.5</td>\n",
       "      <td>-5.0</td>\n",
       "      <td>-55.3</td>\n",
       "      <td>0.0</td>\n",
       "      <td>-57.7</td>\n",
       "      <td>0.0</td>\n",
       "      <td>-59.1</td>\n",
       "    </tr>\n",
       "    <tr>\n",
       "      <th>1</th>\n",
       "      <td>2.0</td>\n",
       "      <td>-59.5</td>\n",
       "      <td>-4.0</td>\n",
       "      <td>-53.4</td>\n",
       "      <td>0.0</td>\n",
       "      <td>-58.1</td>\n",
       "      <td>1.0</td>\n",
       "      <td>-59.0</td>\n",
       "    </tr>\n",
       "    <tr>\n",
       "      <th>2</th>\n",
       "      <td>-2.0</td>\n",
       "      <td>-54.1</td>\n",
       "      <td>0.0</td>\n",
       "      <td>-56.1</td>\n",
       "      <td>0.0</td>\n",
       "      <td>-56.7</td>\n",
       "      <td>1.0</td>\n",
       "      <td>-59.0</td>\n",
       "    </tr>\n",
       "    <tr>\n",
       "      <th>3</th>\n",
       "      <td>0.0</td>\n",
       "      <td>-57.4</td>\n",
       "      <td>-3.0</td>\n",
       "      <td>-53.4</td>\n",
       "      <td>1.0</td>\n",
       "      <td>-56.5</td>\n",
       "      <td>2.0</td>\n",
       "      <td>-59.7</td>\n",
       "    </tr>\n",
       "    <tr>\n",
       "      <th>4</th>\n",
       "      <td>-2.0</td>\n",
       "      <td>-54.3</td>\n",
       "      <td>1.0</td>\n",
       "      <td>-57.0</td>\n",
       "      <td>1.0</td>\n",
       "      <td>-56.3</td>\n",
       "      <td>2.0</td>\n",
       "      <td>-60.2</td>\n",
       "    </tr>\n",
       "    <tr>\n",
       "      <th>...</th>\n",
       "      <td>...</td>\n",
       "      <td>...</td>\n",
       "      <td>...</td>\n",
       "      <td>...</td>\n",
       "      <td>...</td>\n",
       "      <td>...</td>\n",
       "      <td>...</td>\n",
       "      <td>...</td>\n",
       "    </tr>\n",
       "    <tr>\n",
       "      <th>1343</th>\n",
       "      <td>148.0</td>\n",
       "      <td>-56.2</td>\n",
       "      <td>147.0</td>\n",
       "      <td>-53.1</td>\n",
       "      <td>151.0</td>\n",
       "      <td>-56.3</td>\n",
       "      <td>150.0</td>\n",
       "      <td>-60.3</td>\n",
       "    </tr>\n",
       "    <tr>\n",
       "      <th>1344</th>\n",
       "      <td>164.0</td>\n",
       "      <td>-56.2</td>\n",
       "      <td>163.0</td>\n",
       "      <td>-53.9</td>\n",
       "      <td>167.0</td>\n",
       "      <td>-57.1</td>\n",
       "      <td>166.0</td>\n",
       "      <td>-59.6</td>\n",
       "    </tr>\n",
       "    <tr>\n",
       "      <th>1345</th>\n",
       "      <td>194.0</td>\n",
       "      <td>-54.9</td>\n",
       "      <td>194.0</td>\n",
       "      <td>-57.4</td>\n",
       "      <td>198.0</td>\n",
       "      <td>-58.0</td>\n",
       "      <td>197.0</td>\n",
       "      <td>-60.0</td>\n",
       "    </tr>\n",
       "    <tr>\n",
       "      <th>1346</th>\n",
       "      <td>273.0</td>\n",
       "      <td>-55.9</td>\n",
       "      <td>272.0</td>\n",
       "      <td>-56.8</td>\n",
       "      <td>276.0</td>\n",
       "      <td>-58.9</td>\n",
       "      <td>275.0</td>\n",
       "      <td>-60.8</td>\n",
       "    </tr>\n",
       "    <tr>\n",
       "      <th>1347</th>\n",
       "      <td>304.0</td>\n",
       "      <td>-59.3</td>\n",
       "      <td>303.0</td>\n",
       "      <td>-57.8</td>\n",
       "      <td>307.0</td>\n",
       "      <td>-60.5</td>\n",
       "      <td>306.0</td>\n",
       "      <td>-61.5</td>\n",
       "    </tr>\n",
       "  </tbody>\n",
       "</table>\n",
       "<p>1348 rows × 8 columns</p>\n",
       "</div>"
      ],
      "text/plain": [
       "       gNB0    P0   gNB1    P1   gNB2    P2   gNB3    P3\n",
       "0      -4.0 -53.5   -5.0 -55.3    0.0 -57.7    0.0 -59.1\n",
       "1       2.0 -59.5   -4.0 -53.4    0.0 -58.1    1.0 -59.0\n",
       "2      -2.0 -54.1    0.0 -56.1    0.0 -56.7    1.0 -59.0\n",
       "3       0.0 -57.4   -3.0 -53.4    1.0 -56.5    2.0 -59.7\n",
       "4      -2.0 -54.3    1.0 -57.0    1.0 -56.3    2.0 -60.2\n",
       "...     ...   ...    ...   ...    ...   ...    ...   ...\n",
       "1343  148.0 -56.2  147.0 -53.1  151.0 -56.3  150.0 -60.3\n",
       "1344  164.0 -56.2  163.0 -53.9  167.0 -57.1  166.0 -59.6\n",
       "1345  194.0 -54.9  194.0 -57.4  198.0 -58.0  197.0 -60.0\n",
       "1346  273.0 -55.9  272.0 -56.8  276.0 -58.9  275.0 -60.8\n",
       "1347  304.0 -59.3  303.0 -57.8  307.0 -60.5  306.0 -61.5\n",
       "\n",
       "[1348 rows x 8 columns]"
      ]
     },
     "execution_count": 216,
     "metadata": {},
     "output_type": "execute_result"
    }
   ],
   "source": [
    "toa_filt = toa_measurements.loc[~((toa_measurements == float('-inf')).any(axis=1))]\n",
    "toa_filt.reset_index(drop=True, inplace=True)\n",
    "toa_filt"
   ]
  },
  {
   "cell_type": "code",
   "execution_count": 217,
   "metadata": {},
   "outputs": [
    {
     "data": {
      "text/plain": [
       "Text(0, 0.5, 'Measured ToA (samples)')"
      ]
     },
     "execution_count": 217,
     "metadata": {},
     "output_type": "execute_result"
    },
    {
     "data": {
      "image/png": "[encoded data removed]",
      "text/plain": [
       "<Figure size 700x500 with 1 Axes>"
      ]
     },
     "metadata": {},
     "output_type": "display_data"
    }
   ],
   "source": [
    "# Let's plot a bit the drift\n",
    "fig, ax = plt.subplots(figsize=(7, 5))\n",
    "\n",
    "ax.scatter(x=np.arange(len(toa_filt)), y=toa_filt['gNB0'])\n",
    "ax.scatter(x=np.arange(len(toa_filt)), y=toa_filt['gNB1'])\n",
    "\n",
    "ax.legend(['gNB0','gNB1'])\n",
    "\n",
    "ax.set_xlim([0,len(toa_filt)])\n",
    "\n",
    "ax.set_title(f'Position {POSITION} - Bandwidth: {FREQUENCY_MHZ} MHz')\n",
    "ax.set_xlabel('Experiment Number')\n",
    "ax.set_ylabel('Measured ToA (samples)')"
   ]
  },
  {
   "cell_type": "code",
   "execution_count": 218,
   "metadata": {},
   "outputs": [
    {
     "data": {
      "text/plain": [
       "array([ 0.1258737 , -5.10203104, -5.15136604, -5.22790474, -5.27723975,\n",
       "       -0.049335  ])"
      ]
     },
     "execution_count": 218,
     "metadata": {},
     "output_type": "execute_result"
    }
   ],
   "source": [
    "# Calculating the theoretical values\n",
    "theoretical_toa = np.linalg.norm(UEs[POSITION] - gNBs, axis=1)\n",
    "theoretical_tdoa_mat = theoretical_toa.reshape((-1,1)) - theoretical_toa\n",
    "theoretical_tdoa = theoretical_tdoa_mat[np.triu_indices(4,k=1)]\n",
    "theoretical_tdoa"
   ]
  },
  {
   "cell_type": "code",
   "execution_count": 234,
   "metadata": {},
   "outputs": [
    {
     "data": {
      "text/plain": [
       "array([-2.99792458, -5.39626424, -7.19501899, -2.39833966, -4.19709441,\n",
       "       -1.79875475])"
      ]
     },
     "execution_count": 234,
     "metadata": {},
     "output_type": "execute_result"
    }
   ],
   "source": [
    "EXPERIMENT = 200\n",
    "#\n",
    "gNB_toas = uniform_filter1d(toa_filt[[\"gNB0\",\"gNB1\",\"gNB2\",\"gNB3\"]].to_numpy(),5)\n",
    "gNB_toas_selected = gNB_toas[EXPERIMENT,:]\n",
    "gNB_tdoas_selected_mat = gNB_toas_selected.reshape((-1,1)) - gNB_toas_selected\n",
    "selected_tdoa = gNB_tdoas_selected_mat[np.triu_indices(4,k=1)]\n",
    "selected_tdoa = selected_tdoa / FREQUENCY * SPEED_OF_LIGHT\n",
    "selected_tdoa"
   ]
  },
  {
   "cell_type": "code",
   "execution_count": 235,
   "metadata": {},
   "outputs": [
    {
     "name": "stdout",
     "output_type": "stream",
     "text": [
      "Calculated Position - x: 0.5254 y: 6.5695\n",
      "Real Position - x: 1.8000 y: 9.1400\n"
     ]
    }
   ],
   "source": [
    "linpos = linoptim(gNBs,selected_tdoa[0:4],input_type='xyz').squeeze()\n",
    "print(f\"Calculated Position - x: {linpos[0]:.4f} y: {linpos[1]:.4f}\")\n",
    "print(f\"Real Position - x: {UEs[POSITION,0]:.4f} y: {UEs[POSITION,1]:.4f}\")"
   ]
  },
  {
   "cell_type": "code",
   "execution_count": 236,
   "metadata": {},
   "outputs": [
    {
     "data": {
      "text/plain": [
       "array([[2.80674099, 8.55604383]])"
      ]
     },
     "execution_count": 236,
     "metadata": {},
     "output_type": "execute_result"
    }
   ],
   "source": [
    "combination_range = itertools.combinations(np.arange(len(gNBs)), 2)\n",
    "combinations = np.fromiter(combination_range, dtype=np.dtype((int,2)))\n",
    "\n",
    "position_nlls = nonlinoptim(gNBs, selected_tdoa, combinations, num_dim=2, p0=np.mean(gNBs,axis=0), input_type=\"xyz\", method=\"SLSQP\")\n",
    "position_nlls"
   ]
  }
 ],
 "metadata": {
  "kernelspec": {
   "display_name": "pytdoa-ArcY7ZMD-py3.8",
   "language": "python",
   "name": "python3"
  },
  "language_info": {
   "codemirror_mode": {
    "name": "ipython",
    "version": 3
   },
   "file_extension": ".py",
   "mimetype": "text/x-python",
   "name": "python",
   "nbconvert_exporter": "python",
   "pygments_lexer": "ipython3",
   "version": "3.11.4"
  },
  "orig_nbformat": 4,
  "vscode": {
   "interpreter": {
    "hash": "d240e4e55ce5b7ae23ab2049e9594d945179e0aff88ab198ba431dd5e021ca02"
   }
  }
 },
 "nbformat": 4,
 "nbformat_minor": 2
}
